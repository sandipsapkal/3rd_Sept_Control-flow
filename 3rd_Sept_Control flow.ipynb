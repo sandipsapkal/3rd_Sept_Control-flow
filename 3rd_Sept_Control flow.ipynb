{
 "cells": [
  {
   "cell_type": "code",
   "execution_count": null,
   "id": "2f70b046-05a0-4536-bc8d-09da2fba054e",
   "metadata": {},
   "outputs": [],
   "source": [
    "Control Flow"
   ]
  },
  {
   "cell_type": "code",
   "execution_count": null,
   "id": "d21c86cb-e642-4cea-8fa0-902229bf6373",
   "metadata": {},
   "outputs": [],
   "source": [
    "Basic If-Else Statements:"
   ]
  },
  {
   "cell_type": "code",
   "execution_count": null,
   "id": "a102e58f-b8d1-4fe3-9d52-cb3cad548b06",
   "metadata": {},
   "outputs": [],
   "source": [
    "1. Write a Python program to check if a given number is positive or negative."
   ]
  },
  {
   "cell_type": "code",
   "execution_count": 1,
   "id": "109b2a76-6710-44a2-aebe-4e465f81e860",
   "metadata": {},
   "outputs": [
    {
     "name": "stdin",
     "output_type": "stream",
     "text": [
      "Enter a number:  -55\n"
     ]
    },
    {
     "name": "stdout",
     "output_type": "stream",
     "text": [
      "The number is negative\n"
     ]
    }
   ],
   "source": [
    "# Get input from the user\n",
    "number = float(input(\"Enter a number: \"))\n",
    "\n",
    "# Check if the number is positive, negative, or zero\n",
    "if number > 0:\n",
    "    print(\"The number is positive\")\n",
    "elif number < 0:\n",
    "    print(\"The number is negative\")\n",
    "else:\n",
    "    print(\"The number is zero\")"
   ]
  },
  {
   "cell_type": "code",
   "execution_count": null,
   "id": "b906afaf-0dd8-4897-aec9-e92c9ec212ab",
   "metadata": {},
   "outputs": [],
   "source": [
    "2. Create a program that determines if a person is eligible to vote based on their age.\n"
   ]
  },
  {
   "cell_type": "code",
   "execution_count": 2,
   "id": "b79bc40d-b70c-4a0f-acc3-74d6acc825cb",
   "metadata": {},
   "outputs": [
    {
     "name": "stdin",
     "output_type": "stream",
     "text": [
      "Enter your age:  24\n"
     ]
    },
    {
     "name": "stdout",
     "output_type": "stream",
     "text": [
      "You are eligible to vote!\n"
     ]
    }
   ],
   "source": [
    "# Get the person's age\n",
    "age = int(input(\"Enter your age: \"))\n",
    "\n",
    "# Define the minimum voting age\n",
    "voting_age = 18\n",
    "\n",
    "# Check if the person is eligible to vote\n",
    "if age >= voting_age:\n",
    "    print(\"You are eligible to vote!\")\n",
    "else:\n",
    "    print(\"You are not eligible to vote.\")"
   ]
  },
  {
   "cell_type": "code",
   "execution_count": null,
   "id": "2c80525d-acf3-45ed-aaf3-1d495295787c",
   "metadata": {},
   "outputs": [],
   "source": [
    "3. Develop a program to find the maximum of two numbers using if-else statements.\n"
   ]
  },
  {
   "cell_type": "code",
   "execution_count": 3,
   "id": "9aa9fb45-f7d0-42a4-8961-7c3c8a774191",
   "metadata": {},
   "outputs": [
    {
     "name": "stdin",
     "output_type": "stream",
     "text": [
      "Enter the first number:  56\n",
      "Enter the second number:  44\n"
     ]
    },
    {
     "name": "stdout",
     "output_type": "stream",
     "text": [
      "The maximum number is: 56.0\n"
     ]
    }
   ],
   "source": [
    "# Get input from the user\n",
    "num1 = float(input(\"Enter the first number: \"))\n",
    "num2 = float(input(\"Enter the second number: \"))\n",
    "\n",
    "# Compare the two numbers to find the maximum\n",
    "if num1 > num2:\n",
    "    max_num = num1\n",
    "else:\n",
    "    max_num = num2\n",
    "\n",
    "# Print the maximum number\n",
    "print(\"The maximum number is:\", max_num)"
   ]
  },
  {
   "cell_type": "code",
   "execution_count": null,
   "id": "fcb33d7f-bdb6-4932-8f56-9b6baf15b73d",
   "metadata": {},
   "outputs": [],
   "source": [
    "4. Write a Python script to classify a given year as a leap year or not.\n"
   ]
  },
  {
   "cell_type": "code",
   "execution_count": 4,
   "id": "cf26ae56-4778-4ab3-9df8-f02028cbdb4d",
   "metadata": {},
   "outputs": [
    {
     "name": "stdin",
     "output_type": "stream",
     "text": [
      "Enter a year:  2024\n"
     ]
    },
    {
     "name": "stdout",
     "output_type": "stream",
     "text": [
      "2024 is a leap year.\n"
     ]
    }
   ],
   "source": [
    "# Get input from the user\n",
    "year = int(input(\"Enter a year: \"))\n",
    "\n",
    "# Check if it's a leap year\n",
    "if (year % 4 == 0 and year % 100 != 0) or (year % 400 == 0):\n",
    "    print(year, \"is a leap year.\")\n",
    "else:\n",
    "    print(year, \"is not a leap year.\")"
   ]
  },
  {
   "cell_type": "code",
   "execution_count": null,
   "id": "a9c01567-817b-435a-b4a0-54e792fb0263",
   "metadata": {},
   "outputs": [],
   "source": [
    "5. Create a program that checks whether a character is a vowel or a consonant.\n"
   ]
  },
  {
   "cell_type": "code",
   "execution_count": 5,
   "id": "ea0c8f72-e09a-4f78-a992-3c9980e2792f",
   "metadata": {},
   "outputs": [
    {
     "name": "stdin",
     "output_type": "stream",
     "text": [
      "Enter a character:  u\n"
     ]
    },
    {
     "name": "stdout",
     "output_type": "stream",
     "text": [
      "u is a vowel.\n"
     ]
    }
   ],
   "source": [
    "# Get a character from the user\n",
    "char = input(\"Enter a character: \")\n",
    "\n",
    "# Make sure the input is a single character\n",
    "if len(char) == 1:\n",
    "    # Convert the character to lowercase to handle both uppercase and lowercase input\n",
    "    char = char.lower()\n",
    "\n",
    "    # Check if the character is a vowel or a consonant\n",
    "    if char in ('a', 'e', 'i', 'o', 'u'):\n",
    "        print(char, \"is a vowel.\")\n",
    "    else:\n",
    "        print(char, \"is a consonant.\")\n",
    "else:\n",
    "    print(\"Please enter a single character.\")"
   ]
  },
  {
   "cell_type": "code",
   "execution_count": null,
   "id": "99ed1690-5ead-4d44-a4c6-1e54e3c4039f",
   "metadata": {},
   "outputs": [],
   "source": [
    "6. Implement a program to determine whether a given number is even or odd.\n"
   ]
  },
  {
   "cell_type": "code",
   "execution_count": 6,
   "id": "56eb2f8e-8762-4f05-99e2-bb71816a776f",
   "metadata": {},
   "outputs": [
    {
     "name": "stdin",
     "output_type": "stream",
     "text": [
      "Enter a number:  99\n"
     ]
    },
    {
     "name": "stdout",
     "output_type": "stream",
     "text": [
      "99 is an odd number.\n"
     ]
    }
   ],
   "source": [
    "# Get input from the user\n",
    "number = int(input(\"Enter a number: \"))\n",
    "\n",
    "# Check if the number is even or odd\n",
    "if number % 2 == 0:\n",
    "    print(number, \"is an even number.\")\n",
    "else:\n",
    "    print(number, \"is an odd number.\")"
   ]
  },
  {
   "cell_type": "code",
   "execution_count": null,
   "id": "823651f8-d896-468a-8635-3cfd5843ee69",
   "metadata": {},
   "outputs": [],
   "source": [
    "7. Write a Python function to calculate the absolute value of a number without using the `abs()` function.\n"
   ]
  },
  {
   "cell_type": "code",
   "execution_count": 7,
   "id": "3a59ea6e-ca0a-4a2d-a63c-1a4aac0bb8e2",
   "metadata": {},
   "outputs": [
    {
     "name": "stdin",
     "output_type": "stream",
     "text": [
      "Enter a number:  -46\n"
     ]
    },
    {
     "name": "stdout",
     "output_type": "stream",
     "text": [
      "The absolute value of -46.0 is 46.0.\n"
     ]
    }
   ],
   "source": [
    "def calculate_absolute_value(number):\n",
    "    if number < 0:\n",
    "        return -number\n",
    "    else:\n",
    "        return number\n",
    "\n",
    "# Test the function\n",
    "num = float(input(\"Enter a number: \"))\n",
    "abs_value = calculate_absolute_value(num)\n",
    "print(f\"The absolute value of {num} is {abs_value}.\")"
   ]
  },
  {
   "cell_type": "code",
   "execution_count": null,
   "id": "0eec1293-eac0-45fd-93bb-9757ae8b87f4",
   "metadata": {},
   "outputs": [],
   "source": [
    "8. Develop a program that determines the largest of three given numbers using if-else statements.\n"
   ]
  },
  {
   "cell_type": "code",
   "execution_count": 8,
   "id": "f65acbee-60ce-4c98-aaa1-5ec2f7a884ae",
   "metadata": {},
   "outputs": [
    {
     "name": "stdin",
     "output_type": "stream",
     "text": [
      "Enter the first number:  6768\n",
      "Enter the second number:  5758\n",
      "Enter the third number:  8976\n"
     ]
    },
    {
     "name": "stdout",
     "output_type": "stream",
     "text": [
      "The largest number is: 8976.0\n"
     ]
    }
   ],
   "source": [
    "# Get input from the user\n",
    "num1 = float(input(\"Enter the first number: \"))\n",
    "num2 = float(input(\"Enter the second number: \"))\n",
    "num3 = float(input(\"Enter the third number: \"))\n",
    "\n",
    "# Find the largest number\n",
    "if num1 >= num2 and num1 >= num3:\n",
    "    largest = num1\n",
    "elif num2 >= num1 and num2 >= num3:\n",
    "    largest = num2\n",
    "else:\n",
    "    largest = num3\n",
    "\n",
    "# Print the largest number\n",
    "print(\"The largest number is:\", largest)"
   ]
  },
  {
   "cell_type": "code",
   "execution_count": null,
   "id": "ffdca6df-7926-404b-9a5c-0113fe036ef2",
   "metadata": {},
   "outputs": [],
   "source": [
    "9. Create a program that checks if a given string is a palindrome.\n"
   ]
  },
  {
   "cell_type": "code",
   "execution_count": 10,
   "id": "68890240-eb00-49e8-b831-d51519008628",
   "metadata": {},
   "outputs": [
    {
     "name": "stdin",
     "output_type": "stream",
     "text": [
      "Enter a string:  Do geese see God\n"
     ]
    },
    {
     "name": "stdout",
     "output_type": "stream",
     "text": [
      "'Do geese see God' is a palindrome.\n"
     ]
    }
   ],
   "source": [
    "def is_palindrome(string):\n",
    "    # Remove spaces and convert the string to lowercase\n",
    "    clean_string = string.replace(\" \", \"\").lower()\n",
    "    \n",
    "    # Check if the cleaned string is the same as its reverse\n",
    "    return clean_string == clean_string[::-1]\n",
    "\n",
    "# Get input from the user\n",
    "input_string = input(\"Enter a string: \")\n",
    "\n",
    "# Check if it's a palindrome\n",
    "if is_palindrome(input_string):\n",
    "    print(f\"'{input_string}' is a palindrome.\")\n",
    "else:\n",
    "    print(f\"'{input_string}' is not a palindrome.\")"
   ]
  },
  {
   "cell_type": "code",
   "execution_count": null,
   "id": "b1bad72a-6aee-40b5-a444-0e1fae47d752",
   "metadata": {},
   "outputs": [],
   "source": [
    "10. Write a Python program to calculate the grade based on a student's score.\n"
   ]
  },
  {
   "cell_type": "code",
   "execution_count": 11,
   "id": "645f1bed-f2b3-42f5-89bd-32789c0e6797",
   "metadata": {},
   "outputs": [
    {
     "name": "stdin",
     "output_type": "stream",
     "text": [
      "Enter the student's score:  66\n"
     ]
    },
    {
     "name": "stdout",
     "output_type": "stream",
     "text": [
      "The student's grade is D\n"
     ]
    }
   ],
   "source": [
    "# Get the student's score as input\n",
    "score = float(input(\"Enter the student's score: \"))\n",
    "\n",
    "# Define the grade boundaries and corresponding grades\n",
    "grade_boundaries = {\n",
    "    'A': (90, 100),\n",
    "    'B': (80, 89),\n",
    "    'C': (70, 79),\n",
    "    'D': (60, 69),\n",
    "    'F': (0, 59)\n",
    "}\n",
    "\n",
    "# Calculate the grade\n",
    "def calculate_grade(score):\n",
    "    for grade, (lower, upper) in grade_boundaries.items():\n",
    "        if lower <= score <= upper:\n",
    "            return grade\n",
    "    return 'Invalid'\n",
    "\n",
    "# Print the grade\n",
    "grade = calculate_grade(score)\n",
    "if grade != 'Invalid':\n",
    "    print(f\"The student's grade is {grade}\")\n",
    "else:\n",
    "    print(\"Invalid input. Please enter a valid score between 0 and 100.\")"
   ]
  },
  {
   "cell_type": "code",
   "execution_count": null,
   "id": "4e8446bc-bd76-47af-9bfc-26fe5d2973cd",
   "metadata": {},
   "outputs": [],
   "source": [
    "Nested If-Else Statements:"
   ]
  },
  {
   "cell_type": "code",
   "execution_count": null,
   "id": "b873eff4-e056-4ebc-95c1-7b972abc9339",
   "metadata": {},
   "outputs": [],
   "source": [
    "11. Write a program to find the largest among three numbers using nested if-else statements.\n"
   ]
  },
  {
   "cell_type": "code",
   "execution_count": 12,
   "id": "775c9752-649b-4970-8660-aee4a73e3f2f",
   "metadata": {},
   "outputs": [
    {
     "name": "stdin",
     "output_type": "stream",
     "text": [
      "Enter the first number:  76\n",
      "Enter the second number:  89\n",
      "Enter the third number:  59\n"
     ]
    },
    {
     "name": "stdout",
     "output_type": "stream",
     "text": [
      "The largest number is: 89.0\n"
     ]
    }
   ],
   "source": [
    "# Get input from the user\n",
    "num1 = float(input(\"Enter the first number: \"))\n",
    "num2 = float(input(\"Enter the second number: \"))\n",
    "num3 = float(input(\"Enter the third number: \"))\n",
    "\n",
    "# Find the largest number using nested if-else statements\n",
    "if num1 >= num2:\n",
    "    if num1 >= num3:\n",
    "        largest = num1\n",
    "    else:\n",
    "        largest = num3\n",
    "else:\n",
    "    if num2 >= num3:\n",
    "        largest = num2\n",
    "    else:\n",
    "        largest = num3\n",
    "\n",
    "# Print the largest number\n",
    "print(\"The largest number is:\", largest)"
   ]
  },
  {
   "cell_type": "code",
   "execution_count": null,
   "id": "7dc03ad9-f597-4b55-8cb3-46e0196fbf1d",
   "metadata": {},
   "outputs": [],
   "source": [
    "12. Implement a program to determine if a triangle is equilateral, isosceles, or scalene.\n"
   ]
  },
  {
   "cell_type": "code",
   "execution_count": 13,
   "id": "285ece27-450b-483f-adbf-591a14209425",
   "metadata": {},
   "outputs": [
    {
     "name": "stdin",
     "output_type": "stream",
     "text": [
      "Enter the length of the first side:  64\n",
      "Enter the length of the second side:  54\n",
      "Enter the length of the third side:  64\n"
     ]
    },
    {
     "name": "stdout",
     "output_type": "stream",
     "text": [
      "It's an isosceles triangle.\n"
     ]
    }
   ],
   "source": [
    "# Get input for the lengths of the three sides of the triangle\n",
    "side1 = float(input(\"Enter the length of the first side: \"))\n",
    "side2 = float(input(\"Enter the length of the second side: \"))\n",
    "side3 = float(input(\"Enter the length of the third side: \"))\n",
    "\n",
    "# Check if it's a valid triangle\n",
    "if side1 + side2 > side3 and side1 + side3 > side2 and side2 + side3 > side1:\n",
    "    if side1 == side2 == side3:\n",
    "        print(\"It's an equilateral triangle.\")\n",
    "    elif side1 == side2 or side1 == side3 or side2 == side3:\n",
    "        print(\"It's an isosceles triangle.\")\n",
    "    else:\n",
    "        print(\"It's a scalene triangle.\")\n",
    "else:\n",
    "    print(\"It's not a valid triangle.\")"
   ]
  },
  {
   "cell_type": "code",
   "execution_count": null,
   "id": "6ac1c33c-5217-4e59-bd2b-2c761223e1bb",
   "metadata": {},
   "outputs": [],
   "source": [
    "13. Develop a program that checks if a year is a leap year and also if it is a century year.\n"
   ]
  },
  {
   "cell_type": "code",
   "execution_count": 16,
   "id": "6f3a2f45-789b-4092-8776-99d7a7ab545d",
   "metadata": {},
   "outputs": [
    {
     "name": "stdin",
     "output_type": "stream",
     "text": [
      "Enter a year:  2400\n"
     ]
    },
    {
     "name": "stdout",
     "output_type": "stream",
     "text": [
      "2400 is a leap year and a century year.\n"
     ]
    }
   ],
   "source": [
    "# Get input for the year\n",
    "year = int(input(\"Enter a year: \"))\n",
    "\n",
    "# Check if it's a leap year\n",
    "is_leap_year = (year % 4 == 0 and year % 100 != 0) or (year % 400 == 0)\n",
    "\n",
    "# Check if it's a century year\n",
    "is_century_year = year % 100 == 0\n",
    "\n",
    "# Print the results\n",
    "if is_leap_year:\n",
    "    if is_century_year:\n",
    "        print(f\"{year} is a leap year and a century year.\")\n",
    "    else:\n",
    "        print(f\"{year} is a leap year but not a century year.\")\n",
    "else:\n",
    "    print(f\"{year} is not a leap year.\")"
   ]
  },
  {
   "cell_type": "code",
   "execution_count": null,
   "id": "868be71e-adaa-4033-acb8-5a7adcba73a8",
   "metadata": {},
   "outputs": [],
   "source": [
    "14. Write a Python script to determine if a number is positive, negative, or zero.\n"
   ]
  },
  {
   "cell_type": "code",
   "execution_count": 17,
   "id": "d00f0fe2-9663-47e8-b077-50a991e565bb",
   "metadata": {},
   "outputs": [
    {
     "name": "stdin",
     "output_type": "stream",
     "text": [
      "Enter a number:  34\n"
     ]
    },
    {
     "name": "stdout",
     "output_type": "stream",
     "text": [
      "The number is positive\n"
     ]
    }
   ],
   "source": [
    "# Get input from the user\n",
    "number = float(input(\"Enter a number: \"))\n",
    "\n",
    "# Check if the number is positive, negative, or zero\n",
    "if number > 0:\n",
    "    print(\"The number is positive\")\n",
    "elif number < 0:\n",
    "    print(\"The number is negative\")\n",
    "else:\n",
    "    print(\"The number is zero\")"
   ]
  },
  {
   "cell_type": "code",
   "execution_count": null,
   "id": "45827d9d-f296-46ef-b3a5-6d5f53fdf809",
   "metadata": {},
   "outputs": [],
   "source": [
    "15. Create a program to check if a person is a teenager (between 13 and 19 years old).\n"
   ]
  },
  {
   "cell_type": "code",
   "execution_count": 18,
   "id": "52cbdde7-ea23-4e9e-95e5-ce5f244795da",
   "metadata": {},
   "outputs": [
    {
     "name": "stdin",
     "output_type": "stream",
     "text": [
      "Enter the person's age:  18\n"
     ]
    },
    {
     "name": "stdout",
     "output_type": "stream",
     "text": [
      "The person is a teenager.\n"
     ]
    }
   ],
   "source": [
    "# Get input from the user for the person's age\n",
    "age = int(input(\"Enter the person's age: \"))\n",
    "\n",
    "# Check if the person is a teenager\n",
    "if 13 <= age <= 19:\n",
    "    print(\"The person is a teenager.\")\n",
    "else:\n",
    "    print(\"The person is not a teenager.\")"
   ]
  },
  {
   "cell_type": "code",
   "execution_count": null,
   "id": "7f790864-d7e2-4fcb-bd90-a192438c931e",
   "metadata": {},
   "outputs": [],
   "source": [
    "16. Develop a program that determines the type of angle based on its measure (acute, obtuse, or right)."
   ]
  },
  {
   "cell_type": "code",
   "execution_count": 1,
   "id": "01afdfcc-d4be-4b52-adea-0a032d8dc659",
   "metadata": {},
   "outputs": [
    {
     "name": "stdin",
     "output_type": "stream",
     "text": [
      "Enter the angle measure in degrees:  45\n"
     ]
    },
    {
     "name": "stdout",
     "output_type": "stream",
     "text": [
      "The angle with a measure of 45.0 degrees is a Acute angle.\n"
     ]
    }
   ],
   "source": [
    "# Get the angle measure from the user\n",
    "angle_measure = float(input(\"Enter the angle measure in degrees: \"))\n",
    "\n",
    "# Determine the type of angle\n",
    "if angle_measure < 90:\n",
    "    angle_type = \"Acute\"\n",
    "elif angle_measure == 90:\n",
    "    angle_type = \"Right\"\n",
    "else:\n",
    "    angle_type = \"Obtuse\"\n",
    "\n",
    "# Print the result\n",
    "print(f\"The angle with a measure of {angle_measure} degrees is a {angle_type} angle.\")"
   ]
  },
  {
   "cell_type": "code",
   "execution_count": null,
   "id": "a7d2bdee-4359-4a93-b015-9a439934de06",
   "metadata": {},
   "outputs": [],
   "source": [
    "17. Write a Python program to calculate the roots of a quadratic equation.\n"
   ]
  },
  {
   "cell_type": "code",
   "execution_count": 1,
   "id": "1aa5a69e-2676-40e5-afc9-946d2b64c9da",
   "metadata": {},
   "outputs": [
    {
     "name": "stdin",
     "output_type": "stream",
     "text": [
      "Enter the coefficient a:  49\n",
      "Enter the coefficient b:  81\n",
      "Enter the coefficient c:  99\n"
     ]
    },
    {
     "name": "stdout",
     "output_type": "stream",
     "text": [
      "The roots of the quadratic equation 49.0x^2 + 81.0x + 99.0 = 0 are: (-0.826530612244898+1.1563975571953533j) and (-0.826530612244898-1.1563975571953533j)\n"
     ]
    }
   ],
   "source": [
    "import cmath  # Importing the complex math module for handling complex roots\n",
    "\n",
    "def calculate_roots(a, b, c):\n",
    "    # Calculate the discriminant\n",
    "    discriminant = (b**2) - (4*a*c)\n",
    "\n",
    "    # Calculate the roots\n",
    "    root1 = (-b + cmath.sqrt(discriminant)) / (2*a)\n",
    "    root2 = (-b - cmath.sqrt(discriminant)) / (2*a)\n",
    "\n",
    "    return root1, root2\n",
    "\n",
    "# Get user input for the coefficients of the quadratic equation\n",
    "a = float(input(\"Enter the coefficient a: \"))\n",
    "b = float(input(\"Enter the coefficient b: \"))\n",
    "c = float(input(\"Enter the coefficient c: \"))\n",
    "\n",
    "# Calculate the roots\n",
    "root1, root2 = calculate_roots(a, b, c)\n",
    "\n",
    "# Display the roots\n",
    "print(f\"The roots of the quadratic equation {a}x^2 + {b}x + {c} = 0 are: {root1} and {root2}\")"
   ]
  },
  {
   "cell_type": "code",
   "execution_count": null,
   "id": "e2fff045-534b-4c1b-80eb-32a60ee55713",
   "metadata": {},
   "outputs": [],
   "source": [
    "18. Implement a program to determine the day of the week based on a user-provided number (1 for Monday, 2 for Tuesday, etc.).\n"
   ]
  },
  {
   "cell_type": "code",
   "execution_count": 2,
   "id": "ac37968b-6113-4b2e-9a5b-000b659602fa",
   "metadata": {},
   "outputs": [
    {
     "name": "stdin",
     "output_type": "stream",
     "text": [
      "Enter a number (1 for Monday, 2 for Tuesday, etc.):  6\n"
     ]
    },
    {
     "name": "stdout",
     "output_type": "stream",
     "text": [
      "The day corresponding to the number 6 is Saturday.\n"
     ]
    }
   ],
   "source": [
    "# Get the user input\n",
    "day_number = int(input(\"Enter a number (1 for Monday, 2 for Tuesday, etc.): \"))\n",
    "\n",
    "# Define a list of days of the week\n",
    "days_of_week = [\"Monday\", \"Tuesday\", \"Wednesday\", \"Thursday\", \"Friday\", \"Saturday\", \"Sunday\"]\n",
    "\n",
    "# Check if the input is valid\n",
    "if 1 <= day_number <= 7:\n",
    "    # Subtract 1 from the input to get the correct index in the list\n",
    "    day_name = days_of_week[day_number - 1]\n",
    "    print(f\"The day corresponding to the number {day_number} is {day_name}.\")\n",
    "else:\n",
    "    print(\"Invalid input. Please enter a number between 1 and 7.\")"
   ]
  },
  {
   "cell_type": "code",
   "execution_count": null,
   "id": "058833e0-0aa9-4423-8d39-2921ec76dc5c",
   "metadata": {},
   "outputs": [],
   "source": [
    "19. Create a program that determines if a year is a leap year and also if it is evenly divisible by 400.\n"
   ]
  },
  {
   "cell_type": "code",
   "execution_count": 3,
   "id": "9de55ae9-04b2-4c76-aae9-c7b9b999ebbf",
   "metadata": {},
   "outputs": [
    {
     "name": "stdin",
     "output_type": "stream",
     "text": [
      "Enter a year:  1996\n"
     ]
    },
    {
     "name": "stdout",
     "output_type": "stream",
     "text": [
      "1996 is a leap year.\n"
     ]
    }
   ],
   "source": [
    "# Get the year from the user\n",
    "year = int(input(\"Enter a year: \"))\n",
    "\n",
    "# Check if it's a leap year\n",
    "if (year % 4 == 0 and year % 100 != 0) or (year % 400 == 0):\n",
    "    print(f\"{year} is a leap year.\")\n",
    "else:\n",
    "    print(f\"{year} is not a leap year.\")"
   ]
  },
  {
   "cell_type": "code",
   "execution_count": null,
   "id": "f1ad235f-85d3-4efc-9831-2baa840d0353",
   "metadata": {},
   "outputs": [],
   "source": [
    "20. Develop a program that checks if a given number is prime or not using nested if-else statements.\n"
   ]
  },
  {
   "cell_type": "code",
   "execution_count": 4,
   "id": "e9b77cc1-7624-45d0-98df-8c6115cae6f9",
   "metadata": {},
   "outputs": [
    {
     "name": "stdin",
     "output_type": "stream",
     "text": [
      "Enter a number:  56\n"
     ]
    },
    {
     "name": "stdout",
     "output_type": "stream",
     "text": [
      "56 is not a prime number.\n"
     ]
    }
   ],
   "source": [
    "# Get the number from the user\n",
    "num = int(input(\"Enter a number: \"))\n",
    "\n",
    "# Check if the number is greater than 1\n",
    "if num > 1:\n",
    "    # Check if the number is divisible by any integer from 2 to the square root of the number\n",
    "    is_prime = True\n",
    "    for i in range(2, int(num**0.5) + 1):\n",
    "        if num % i == 0:\n",
    "            is_prime = False\n",
    "            break\n",
    "\n",
    "    # Determine and print the result\n",
    "    if is_prime:\n",
    "        print(f\"{num} is a prime number.\")\n",
    "    else:\n",
    "        print(f\"{num} is not a prime number.\")\n",
    "else:\n",
    "    # Numbers less than or equal to 1 are not prime\n",
    "    print(f\"{num} is not a prime number.\")"
   ]
  },
  {
   "cell_type": "code",
   "execution_count": null,
   "id": "88ec8969-b7d9-4617-b03d-0424d7683c19",
   "metadata": {},
   "outputs": [],
   "source": [
    "Elif Statements:"
   ]
  },
  {
   "cell_type": "code",
   "execution_count": null,
   "id": "e4cfcafc-9639-4f7e-a65b-356956ee4a6a",
   "metadata": {},
   "outputs": [],
   "source": [
    "21. Write a Python program to assign grades based on different ranges of scores using elif statements.\n"
   ]
  },
  {
   "cell_type": "code",
   "execution_count": 5,
   "id": "65cf304c-90f5-4ea3-a80e-a84423a77665",
   "metadata": {},
   "outputs": [
    {
     "name": "stdin",
     "output_type": "stream",
     "text": [
      "Enter the score:  78\n"
     ]
    },
    {
     "name": "stdout",
     "output_type": "stream",
     "text": [
      "The grade for the score 78 is: C\n"
     ]
    }
   ],
   "source": [
    "# Get the score from the user\n",
    "score = int(input(\"Enter the score: \"))\n",
    "\n",
    "# Determine the grade based on the score\n",
    "if 90 <= score <= 100:\n",
    "    grade = \"A\"\n",
    "elif 80 <= score < 90:\n",
    "    grade = \"B\"\n",
    "elif 70 <= score < 80:\n",
    "    grade = \"C\"\n",
    "elif 60 <= score < 70:\n",
    "    grade = \"D\"\n",
    "elif 0 <= score < 60:\n",
    "    grade = \"F\"\n",
    "else:\n",
    "    grade = \"Invalid input. The score should be between 0 and 100.\"\n",
    "\n",
    "# Print the grade\n",
    "print(f\"The grade for the score {score} is: {grade}\")"
   ]
  },
  {
   "cell_type": "code",
   "execution_count": null,
   "id": "111e6612-28f4-4850-b825-0473e6a97848",
   "metadata": {},
   "outputs": [],
   "source": [
    "22. Implement a program to determine the type of a triangle based on its angles.\n"
   ]
  },
  {
   "cell_type": "code",
   "execution_count": 6,
   "id": "19855ffe-e8ec-45b3-bc60-c0f0ca6c541e",
   "metadata": {},
   "outputs": [
    {
     "name": "stdin",
     "output_type": "stream",
     "text": [
      "Enter the first angle in degrees:  90\n",
      "Enter the second angle in degrees:  60\n",
      "Enter the third angle in degrees:  45\n"
     ]
    },
    {
     "name": "stdout",
     "output_type": "stream",
     "text": [
      "The given angles form a Right-angled triangle.\n"
     ]
    }
   ],
   "source": [
    "# Get the angles from the user\n",
    "angle1 = int(input(\"Enter the first angle in degrees: \"))\n",
    "angle2 = int(input(\"Enter the second angle in degrees: \"))\n",
    "angle3 = int(input(\"Enter the third angle in degrees: \"))\n",
    "\n",
    "# Determine the type of triangle\n",
    "if angle1 < 90 and angle2 < 90 and angle3 < 90:\n",
    "    triangle_type = \"Acute-angled triangle\"\n",
    "elif angle1 == 90 or angle2 == 90 or angle3 == 90:\n",
    "    triangle_type = \"Right-angled triangle\"\n",
    "elif angle1 > 90 or angle2 > 90 or angle3 > 90:\n",
    "    triangle_type = \"Obtuse-angled triangle\"\n",
    "else:\n",
    "    triangle_type = \"Invalid input. The angles should add up to 180 degrees.\"\n",
    "\n",
    "# Print the result\n",
    "print(f\"The given angles form a {triangle_type}.\")"
   ]
  },
  {
   "cell_type": "code",
   "execution_count": null,
   "id": "c59bd9e7-baab-4ba1-bed9-e25bbf1b5740",
   "metadata": {},
   "outputs": [],
   "source": [
    "23. Develop a program to categorize a given person's BMI into underweight, normal, overweight, or obese using elif statements. \n"
   ]
  },
  {
   "cell_type": "code",
   "execution_count": 7,
   "id": "ba2dae10-50f0-4679-b81d-7dda7f8221bf",
   "metadata": {},
   "outputs": [
    {
     "name": "stdin",
     "output_type": "stream",
     "text": [
      "Enter weight in kilograms:  75\n",
      "Enter height in meters:  1.78\n"
     ]
    },
    {
     "name": "stdout",
     "output_type": "stream",
     "text": [
      "The person's BMI is 23.67, which falls into the category: Normal weight\n"
     ]
    }
   ],
   "source": [
    "# Get the person's weight and height from the user\n",
    "weight = float(input(\"Enter weight in kilograms: \"))\n",
    "height = float(input(\"Enter height in meters: \"))\n",
    "\n",
    "# Calculate BMI\n",
    "bmi = weight / (height * height)\n",
    "\n",
    "# Determine the BMI category\n",
    "if bmi < 18.5:\n",
    "    category = \"Underweight\"\n",
    "elif 18.5 <= bmi < 25.0:\n",
    "    category = \"Normal weight\"\n",
    "elif 25.0 <= bmi < 30.0:\n",
    "    category = \"Overweight\"\n",
    "else:\n",
    "    category = \"Obese\"\n",
    "\n",
    "# Print the result\n",
    "print(f\"The person's BMI is {bmi:.2f}, which falls into the category: {category}\")"
   ]
  },
  {
   "cell_type": "code",
   "execution_count": null,
   "id": "ebe4af89-08d5-48ea-86d3-278ae501db16",
   "metadata": {},
   "outputs": [],
   "source": [
    "24. Create a program that determines whether a given number is positive, negative, or zero using elif statements. \n"
   ]
  },
  {
   "cell_type": "code",
   "execution_count": 1,
   "id": "c868bba5-10e2-41f1-a902-cbe88d378948",
   "metadata": {},
   "outputs": [
    {
     "name": "stdin",
     "output_type": "stream",
     "text": [
      "Enter a number:  -65\n"
     ]
    },
    {
     "name": "stdout",
     "output_type": "stream",
     "text": [
      "The number is negative.\n"
     ]
    }
   ],
   "source": [
    "# Input a number from the user\n",
    "number = float(input(\"Enter a number: \"))\n",
    "\n",
    "# Check if the number is positive, negative, or zero\n",
    "if number > 0:\n",
    "    print(\"The number is positive.\")\n",
    "elif number < 0:\n",
    "    print(\"The number is negative.\")\n",
    "else:\n",
    "    print(\"The number is zero.\")"
   ]
  },
  {
   "cell_type": "code",
   "execution_count": null,
   "id": "34c64c67-3afa-41c0-8686-eb3668d9f95c",
   "metadata": {},
   "outputs": [],
   "source": [
    "25. Write a Python script to determine the type of a character (uppercase, lowercase, or special) using elif statements."
   ]
  },
  {
   "cell_type": "code",
   "execution_count": 2,
   "id": "4e3002f1-aabc-48ab-895b-b4c7f9954598",
   "metadata": {},
   "outputs": [
    {
     "name": "stdin",
     "output_type": "stream",
     "text": [
      "Enter a character:  @\n"
     ]
    },
    {
     "name": "stdout",
     "output_type": "stream",
     "text": [
      "The character is a special character.\n"
     ]
    }
   ],
   "source": [
    "# Input a character from the user\n",
    "character = input(\"Enter a character: \")\n",
    "\n",
    "# Check the type of character\n",
    "if character.isalpha():\n",
    "    if character.islower():\n",
    "        print(\"The character is lowercase.\")\n",
    "    elif character.isupper():\n",
    "        print(\"The character is uppercase.\")\n",
    "else:\n",
    "    print(\"The character is a special character.\")"
   ]
  },
  {
   "cell_type": "code",
   "execution_count": null,
   "id": "1513126a-7a48-45a1-a3eb-b841eddfbbea",
   "metadata": {},
   "outputs": [],
   "source": [
    "26. Implement a program to calculate the discounted price based on different purchase amounts using elif statements.\n"
   ]
  },
  {
   "cell_type": "code",
   "execution_count": 1,
   "id": "7e60a557-1f2b-4f37-a667-92b2ab3ae94f",
   "metadata": {},
   "outputs": [
    {
     "name": "stdin",
     "output_type": "stream",
     "text": [
      "Enter the purchase amount: $ 458\n"
     ]
    },
    {
     "name": "stdout",
     "output_type": "stream",
     "text": [
      "Original Price: $458.00\n",
      "Discount Rate: 15.0%\n",
      "Discounted Price: $389.30\n"
     ]
    }
   ],
   "source": [
    "# Input the purchase amount from the user\n",
    "purchase_amount = float(input(\"Enter the purchase amount: $\"))\n",
    "\n",
    "# Initialize variables for discount rates\n",
    "discount_rate = 0.0\n",
    "\n",
    "# Determine the discount rate based on the purchase amount\n",
    "if purchase_amount < 50:\n",
    "    discount_rate = 0.0\n",
    "elif purchase_amount < 100:\n",
    "    discount_rate = 0.05  # 5% discount for purchase < $100\n",
    "elif purchase_amount < 200:\n",
    "    discount_rate = 0.1   # 10% discount for purchase < $200\n",
    "else:\n",
    "    discount_rate = 0.15  # 15% discount for purchase >= $200\n",
    "\n",
    "# Calculate the discounted price\n",
    "discounted_price = purchase_amount - (purchase_amount * discount_rate)\n",
    "\n",
    "# Display the results\n",
    "print(f\"Original Price: ${purchase_amount:.2f}\")\n",
    "print(f\"Discount Rate: {discount_rate * 100}%\")\n",
    "print(f\"Discounted Price: ${discounted_price:.2f}\")"
   ]
  },
  {
   "cell_type": "code",
   "execution_count": null,
   "id": "ea15a075-996d-4730-b334-a36c495f28cd",
   "metadata": {},
   "outputs": [],
   "source": [
    "27. Develop a program to calculate the electricity bill based on different consumption slabs using elif statements.\n"
   ]
  },
  {
   "cell_type": "code",
   "execution_count": 2,
   "id": "3ffdeaf2-aa32-4009-aa4d-4f88298dbeba",
   "metadata": {},
   "outputs": [
    {
     "name": "stdin",
     "output_type": "stream",
     "text": [
      "Enter your electricity consumption (kWh):  230\n"
     ]
    },
    {
     "name": "stdout",
     "output_type": "stream",
     "text": [
      "Your electricity bill for 230.0 kWh is: $39.50\n"
     ]
    }
   ],
   "source": [
    "# Input the electricity consumption in kilowatt-hours (kWh) from the user\n",
    "consumption = float(input(\"Enter your electricity consumption (kWh): \"))\n",
    "\n",
    "# Initialize variables for the electricity rates and bill\n",
    "electricity_rate_1 = 0.10  # Rate for the first 100 kWh\n",
    "electricity_rate_2 = 0.15  # Rate for the next 200 kWh\n",
    "electricity_rate_3 = 0.20  # Rate for consumption above 300 kWh\n",
    "fixed_charge = 10.00       # Fixed monthly charge\n",
    "\n",
    "# Calculate the electricity bill based on consumption slabs\n",
    "if consumption <= 100:\n",
    "    bill = fixed_charge + (consumption * electricity_rate_1)\n",
    "elif consumption <= 300:\n",
    "    bill = fixed_charge + (100 * electricity_rate_1) + ((consumption - 100) * electricity_rate_2)\n",
    "else:\n",
    "    bill = fixed_charge + (100 * electricity_rate_1) + (200 * electricity_rate_2) + ((consumption - 300) * electricity_rate_3)\n",
    "\n",
    "# Display the electricity bill to the user\n",
    "print(f\"Your electricity bill for {consumption} kWh is: ${bill:.2f}\")"
   ]
  },
  {
   "cell_type": "code",
   "execution_count": null,
   "id": "538e084b-a2d4-4d38-8584-44093b8039c9",
   "metadata": {},
   "outputs": [],
   "source": [
    "28. Create a program to determine the type of quadrilateral based on its angles and sides using elif statements\n"
   ]
  },
  {
   "cell_type": "code",
   "execution_count": 3,
   "id": "fbd4b50b-c74d-4b20-8288-4984ca78ffbb",
   "metadata": {},
   "outputs": [
    {
     "name": "stdin",
     "output_type": "stream",
     "text": [
      "Enter the first angle (in degrees):  60\n",
      "Enter the second angle (in degrees):  45\n",
      "Enter the third angle (in degrees):  60\n",
      "Enter the fourth angle (in degrees):  90\n",
      "Enter the length of the first side:  30\n",
      "Enter the length of the second side:  21\n",
      "Enter the length of the third side:  24\n",
      "Enter the length of the fourth side:  36\n"
     ]
    },
    {
     "name": "stdout",
     "output_type": "stream",
     "text": [
      "It's a generic quadrilateral.\n"
     ]
    }
   ],
   "source": [
    "# Input the angles and sides of the quadrilateral from the user\n",
    "angle1 = float(input(\"Enter the first angle (in degrees): \"))\n",
    "angle2 = float(input(\"Enter the second angle (in degrees): \"))\n",
    "angle3 = float(input(\"Enter the third angle (in degrees): \"))\n",
    "angle4 = float(input(\"Enter the fourth angle (in degrees): \"))\n",
    "side1 = float(input(\"Enter the length of the first side: \"))\n",
    "side2 = float(input(\"Enter the length of the second side: \"))\n",
    "side3 = float(input(\"Enter the length of the third side: \"))\n",
    "side4 = float(input(\"Enter the length of the fourth side: \"))\n",
    "\n",
    "# Check the type of quadrilateral based on angles and sides\n",
    "if angle1 == angle2 == angle3 == angle4 == 90:\n",
    "    if side1 == side2 == side3 == side4:\n",
    "        print(\"It's a square.\")\n",
    "    elif side1 == side2 and side3 == side4:\n",
    "        print(\"It's a rectangle.\")\n",
    "    else:\n",
    "        print(\"It's a quadrilateral with right angles.\")\n",
    "elif side1 == side2 == side3 == side4:\n",
    "    if angle1 == angle2 == angle3 == angle4:\n",
    "        print(\"It's a rhombus.\")\n",
    "    else:\n",
    "        print(\"It's a parallelogram.\")\n",
    "elif side1 == side3 and side2 == side4:\n",
    "    print(\"It's a trapezoid.\")\n",
    "else:\n",
    "    print(\"It's a generic quadrilateral.\")"
   ]
  },
  {
   "cell_type": "code",
   "execution_count": null,
   "id": "a34aadc4-8118-4923-a968-8eec0d6b6d14",
   "metadata": {},
   "outputs": [],
   "source": [
    "29. Write a Python script to determine the season based on a user-provided month using elif statements.\n"
   ]
  },
  {
   "cell_type": "code",
   "execution_count": 4,
   "id": "fbb564e5-8097-4d64-9a77-84a5a38f1b7c",
   "metadata": {},
   "outputs": [
    {
     "name": "stdin",
     "output_type": "stream",
     "text": [
      "Enter a month (1-12):  6\n"
     ]
    },
    {
     "name": "stdout",
     "output_type": "stream",
     "text": [
      "The season for month 6 is Summer.\n"
     ]
    }
   ],
   "source": [
    "# Input the month from the user as a number (1-12)\n",
    "month = int(input(\"Enter a month (1-12): \"))\n",
    "\n",
    "# Check the season based on the month\n",
    "if 3 <= month <= 5:\n",
    "    season = \"Spring\"\n",
    "elif 6 <= month <= 8:\n",
    "    season = \"Summer\"\n",
    "elif 9 <= month <= 11:\n",
    "    season = \"Autumn/Fall\"\n",
    "elif month == 12 or month <= 2:\n",
    "    season = \"Winter\"\n",
    "else:\n",
    "    season = \"Invalid Month\"\n",
    "\n",
    "# Display the season to the user\n",
    "print(f\"The season for month {month} is {season}.\")"
   ]
  },
  {
   "cell_type": "code",
   "execution_count": null,
   "id": "2b2ccfbe-4cd2-4192-810c-4c42970e8f13",
   "metadata": {},
   "outputs": [],
   "source": [
    "30. Implement a program to determine the type of a year (leap or common) and month (30 or 31 days) using elif statements"
   ]
  },
  {
   "cell_type": "code",
   "execution_count": 5,
   "id": "934d96b9-2346-41c1-834b-451ac7a4f8c8",
   "metadata": {},
   "outputs": [
    {
     "name": "stdin",
     "output_type": "stream",
     "text": [
      "Enter a year:  1996\n",
      "Enter a month (1-12):  8\n"
     ]
    },
    {
     "name": "stdout",
     "output_type": "stream",
     "text": [
      "The year 1996 is a leap year.\n",
      "The month 8 has 31 days.\n"
     ]
    }
   ],
   "source": [
    "# Input the year from the user\n",
    "year = int(input(\"Enter a year: \"))\n",
    "\n",
    "# Input the month from the user as a number (1-12)\n",
    "month = int(input(\"Enter a month (1-12): \"))\n",
    "\n",
    "# Check if the year is leap or common\n",
    "if (year % 4 == 0 and year % 100 != 0) or (year % 400 == 0):\n",
    "    year_type = \"leap\"\n",
    "else:\n",
    "    year_type = \"common\"\n",
    "\n",
    "# Check the number of days in the month\n",
    "if 1 <= month <= 12:\n",
    "    if month in [4, 6, 9, 11]:\n",
    "        days_in_month = 30\n",
    "    elif month == 2:\n",
    "        if year_type == \"leap\":\n",
    "            days_in_month = 29\n",
    "        else:\n",
    "            days_in_month = 28\n",
    "    else:\n",
    "        days_in_month = 31\n",
    "else:\n",
    "    year_type = \"Invalid Month\"\n",
    "    days_in_month = \"Invalid Month\"\n",
    "\n",
    "# Display the type of year and number of days in the month to the user\n",
    "print(f\"The year {year} is a {year_type} year.\")\n",
    "print(f\"The month {month} has {days_in_month} days.\")"
   ]
  },
  {
   "cell_type": "code",
   "execution_count": null,
   "id": "a481d0f7-81f8-4893-b9bb-1bc98d49ea48",
   "metadata": {},
   "outputs": [],
   "source": [
    "Basic Level:"
   ]
  },
  {
   "cell_type": "code",
   "execution_count": null,
   "id": "670ebf66-dc50-4986-8171-049db3884047",
   "metadata": {},
   "outputs": [],
   "source": [
    "1. Write a Python program that checks if a given number is positive, negative, or zero.\n"
   ]
  },
  {
   "cell_type": "code",
   "execution_count": 6,
   "id": "3df661ee-d8e6-45f4-a13c-c772b31d8904",
   "metadata": {},
   "outputs": [
    {
     "name": "stdin",
     "output_type": "stream",
     "text": [
      "Enter a number:  78\n"
     ]
    },
    {
     "name": "stdout",
     "output_type": "stream",
     "text": [
      "The number is positive.\n"
     ]
    }
   ],
   "source": [
    "# Input a number from the user\n",
    "number = float(input(\"Enter a number: \"))\n",
    "\n",
    "# Check if the number is positive, negative, or zero\n",
    "if number > 0:\n",
    "    print(\"The number is positive.\")\n",
    "elif number < 0:\n",
    "    print(\"The number is negative.\")\n",
    "else:\n",
    "    print(\"The number is zero.\")"
   ]
  },
  {
   "cell_type": "code",
   "execution_count": null,
   "id": "a0431667-cf1c-4994-80d0-ee3666e5cbe0",
   "metadata": {},
   "outputs": [],
   "source": [
    "2. Create a program to determine if a person is eligible to vote based on their age."
   ]
  },
  {
   "cell_type": "code",
   "execution_count": 1,
   "id": "8c40abdb-a3db-4433-85b9-c1c6bb39b113",
   "metadata": {},
   "outputs": [
    {
     "name": "stdin",
     "output_type": "stream",
     "text": [
      "Enter your age:  54\n"
     ]
    },
    {
     "name": "stdout",
     "output_type": "stream",
     "text": [
      "You are eligible to vote!\n"
     ]
    }
   ],
   "source": [
    "def check_voting_eligibility(age):\n",
    "    if age >= 18:\n",
    "        print(\"You are eligible to vote!\")\n",
    "    else:\n",
    "        print(\"Sorry, you are not eligible to vote yet.\")\n",
    "\n",
    "# Get user input for age\n",
    "try:\n",
    "    age = int(input(\"Enter your age: \"))\n",
    "    check_voting_eligibility(age)\n",
    "except ValueError:\n",
    "    print(\"Please enter a valid age as a number.\")"
   ]
  },
  {
   "cell_type": "code",
   "execution_count": null,
   "id": "9c927a0c-7834-4601-8f18-f2ec8681addb",
   "metadata": {},
   "outputs": [],
   "source": [
    "3. Write a program to find the maximum of two given numbers using conditional statements."
   ]
  },
  {
   "cell_type": "code",
   "execution_count": 2,
   "id": "2d1b490f-91bf-4474-b9d1-52f5e4cd2cf9",
   "metadata": {},
   "outputs": [
    {
     "name": "stdin",
     "output_type": "stream",
     "text": [
      "Enter the first number:  69\n",
      "Enter the second number:  86\n"
     ]
    },
    {
     "name": "stdout",
     "output_type": "stream",
     "text": [
      "The maximum of 69.0 and 86.0 is: 86.0\n"
     ]
    }
   ],
   "source": [
    "# Function to find the maximum of two numbers\n",
    "def find_maximum(num1, num2):\n",
    "    if num1 > num2:\n",
    "        return num1\n",
    "    else:\n",
    "        return num2\n",
    "\n",
    "# Get user input for two numbers\n",
    "try:\n",
    "    num1 = float(input(\"Enter the first number: \"))\n",
    "    num2 = float(input(\"Enter the second number: \"))\n",
    "    \n",
    "    # Call the function and print the result\n",
    "    maximum = find_maximum(num1, num2)\n",
    "    print(\"The maximum of {} and {} is: {}\".format(num1, num2, maximum))\n",
    "except ValueError:\n",
    "    print(\"Please enter valid numbers.\")"
   ]
  },
  {
   "cell_type": "code",
   "execution_count": null,
   "id": "285a2a4b-da57-47a0-aa4c-ae0c412d37bc",
   "metadata": {},
   "outputs": [],
   "source": [
    "4. Develop a program that calculates the grade of a student based on their exam score."
   ]
  },
  {
   "cell_type": "code",
   "execution_count": 3,
   "id": "9ea1280b-f02c-4e79-a9e8-85f9f5978dd9",
   "metadata": {},
   "outputs": [
    {
     "name": "stdin",
     "output_type": "stream",
     "text": [
      "Enter the exam score:  98\n"
     ]
    },
    {
     "name": "stdout",
     "output_type": "stream",
     "text": [
      "The grade for a score of 98.0 is: A\n"
     ]
    }
   ],
   "source": [
    "def calculate_grade(score):\n",
    "    if 90 <= score <= 100:\n",
    "        return 'A'\n",
    "    elif 80 <= score < 90:\n",
    "        return 'B'\n",
    "    elif 70 <= score < 80:\n",
    "        return 'C'\n",
    "    elif 60 <= score < 70:\n",
    "        return 'D'\n",
    "    elif 0 <= score < 60:\n",
    "        return 'F'\n",
    "    else:\n",
    "        return 'Invalid Score'\n",
    "\n",
    "# Get user input for the exam score\n",
    "try:\n",
    "    score = float(input(\"Enter the exam score: \"))\n",
    "    \n",
    "    # Call the function and print the result\n",
    "    grade = calculate_grade(score)\n",
    "    print(\"The grade for a score of {} is: {}\".format(score, grade))\n",
    "except ValueError:\n",
    "    print(\"Please enter a valid numeric score.\")"
   ]
  },
  {
   "cell_type": "code",
   "execution_count": null,
   "id": "0c3870ad-1aca-4280-a414-8503f32f71f2",
   "metadata": {},
   "outputs": [],
   "source": [
    "5. Create a program that checks if a year is a leap year or not."
   ]
  },
  {
   "cell_type": "code",
   "execution_count": 4,
   "id": "032112a1-43f5-4a2d-95d5-afed83f4edd0",
   "metadata": {},
   "outputs": [
    {
     "name": "stdin",
     "output_type": "stream",
     "text": [
      "Enter a year:  2098\n"
     ]
    },
    {
     "name": "stdout",
     "output_type": "stream",
     "text": [
      "2098 is not a leap year.\n"
     ]
    }
   ],
   "source": [
    "def is_leap_year(year):\n",
    "    if (year % 4 == 0 and year % 100 != 0) or (year % 400 == 0):\n",
    "        return True\n",
    "    else:\n",
    "        return False\n",
    "\n",
    "# Get user input for the year\n",
    "try:\n",
    "    year = int(input(\"Enter a year: \"))\n",
    "    \n",
    "    # Call the function and print the result\n",
    "    if is_leap_year(year):\n",
    "        print(\"{} is a leap year.\".format(year))\n",
    "    else:\n",
    "        print(\"{} is not a leap year.\".format(year))\n",
    "except ValueError:\n",
    "    print(\"Please enter a valid year as a number.\")"
   ]
  },
  {
   "cell_type": "code",
   "execution_count": null,
   "id": "0b0e84d5-00e4-40e7-9dd6-48aaf304305c",
   "metadata": {},
   "outputs": [],
   "source": [
    "6. Write a program to classify a triangle based on its sides' lengths."
   ]
  },
  {
   "cell_type": "code",
   "execution_count": 5,
   "id": "cf13c1e5-b45b-4941-bc55-bc0c4f011b60",
   "metadata": {},
   "outputs": [
    {
     "name": "stdin",
     "output_type": "stream",
     "text": [
      "Enter the length of the first side:  2\n",
      "Enter the length of the second side:  3\n",
      "Enter the length of the third side:  4\n"
     ]
    },
    {
     "name": "stdout",
     "output_type": "stream",
     "text": [
      "The triangle is a(n) Scalene Triangle\n"
     ]
    }
   ],
   "source": [
    "def classify_triangle(side1, side2, side3):\n",
    "    if side1 == side2 == side3:\n",
    "        return \"Equilateral Triangle\"\n",
    "    elif side1 == side2 or side1 == side3 or side2 == side3:\n",
    "        return \"Isosceles Triangle\"\n",
    "    else:\n",
    "        return \"Scalene Triangle\"\n",
    "\n",
    "# Get user input for the sides of the triangle\n",
    "try:\n",
    "    side1 = float(input(\"Enter the length of the first side: \"))\n",
    "    side2 = float(input(\"Enter the length of the second side: \"))\n",
    "    side3 = float(input(\"Enter the length of the third side: \"))\n",
    "    \n",
    "    # Check if the triangle is valid\n",
    "    if side1 + side2 > side3 and side1 + side3 > side2 and side2 + side3 > side1:\n",
    "        # Call the function and print the result\n",
    "        triangle_type = classify_triangle(side1, side2, side3)\n",
    "        print(\"The triangle is a(n) {}\".format(triangle_type))\n",
    "    else:\n",
    "        print(\"Invalid triangle. The sum of the lengths of any two sides must be greater than the length of the third side.\")\n",
    "except ValueError:\n",
    "    print(\"Please enter valid numeric values for the side lengths.\")"
   ]
  },
  {
   "cell_type": "code",
   "execution_count": null,
   "id": "8a46f10d-cc35-45f7-8f6e-56188e1bd148",
   "metadata": {},
   "outputs": [],
   "source": [
    "7. Build a program that determines the largest of three given numbers."
   ]
  },
  {
   "cell_type": "code",
   "execution_count": 6,
   "id": "811d5127-66a6-4c9a-9834-9ba8235fd9ad",
   "metadata": {},
   "outputs": [
    {
     "name": "stdin",
     "output_type": "stream",
     "text": [
      "Enter the first number:  89789\n",
      "Enter the second number:  65758\n",
      "Enter the third number:  79770\n"
     ]
    },
    {
     "name": "stdout",
     "output_type": "stream",
     "text": [
      "The largest number is: 89789.0\n"
     ]
    }
   ],
   "source": [
    "def find_largest_number(num1, num2, num3):\n",
    "    max_number = max(num1, num2, num3)\n",
    "    return max_number\n",
    "\n",
    "# Get user input for three numbers\n",
    "try:\n",
    "    num1 = float(input(\"Enter the first number: \"))\n",
    "    num2 = float(input(\"Enter the second number: \"))\n",
    "    num3 = float(input(\"Enter the third number: \"))\n",
    "    \n",
    "    # Call the function and print the result\n",
    "    largest_number = find_largest_number(num1, num2, num3)\n",
    "    print(\"The largest number is: {}\".format(largest_number))\n",
    "except ValueError:\n",
    "    print(\"Please enter valid numeric values.\")"
   ]
  },
  {
   "cell_type": "code",
   "execution_count": null,
   "id": "f0adb677-7d59-4bbf-849a-2eafe1e56156",
   "metadata": {},
   "outputs": [],
   "source": [
    "8. Develop a program that checks whether a character is a vowel or a consonant."
   ]
  },
  {
   "cell_type": "code",
   "execution_count": 7,
   "id": "721465a4-7152-40d5-9896-03d98a442a18",
   "metadata": {},
   "outputs": [
    {
     "name": "stdin",
     "output_type": "stream",
     "text": [
      "Enter a character:  z\n"
     ]
    },
    {
     "name": "stdout",
     "output_type": "stream",
     "text": [
      "The character 'z' is a Consonant\n"
     ]
    }
   ],
   "source": [
    "def check_vowel_or_consonant(char):\n",
    "    vowels = \"AEIOUaeiou\"\n",
    "\n",
    "    if char.isalpha() and len(char) == 1:\n",
    "        if char in vowels:\n",
    "            return \"Vowel\"\n",
    "        else:\n",
    "            return \"Consonant\"\n",
    "    else:\n",
    "        return \"Invalid input. Please enter a single alphabet character.\"\n",
    "\n",
    "# Get user input for a character\n",
    "try:\n",
    "    user_char = input(\"Enter a character: \")\n",
    "\n",
    "    # Call the function and print the result\n",
    "    result = check_vowel_or_consonant(user_char)\n",
    "    print(\"The character '{}' is a {}\".format(user_char, result))\n",
    "except ValueError:\n",
    "    print(\"Invalid input. Please enter a single alphabet character.\")"
   ]
  },
  {
   "cell_type": "code",
   "execution_count": null,
   "id": "0ced03e3-f8e2-4c17-bb44-3eeb511fef49",
   "metadata": {},
   "outputs": [],
   "source": [
    "9. Create a program to calculate the total cost of a shopping cart based on discounts."
   ]
  },
  {
   "cell_type": "code",
   "execution_count": 1,
   "id": "61a28ba5-c641-49a4-907e-6e993ea21b2c",
   "metadata": {},
   "outputs": [
    {
     "name": "stdin",
     "output_type": "stream",
     "text": [
      "Enter the number of items in your shopping cart:  3\n",
      "Enter the name of item 1:  soap\n",
      "Enter the price of soap: $ 24\n",
      "Enter the name of item 2:  facewash\n",
      "Enter the price of facewash: $ 54\n",
      "Enter the name of item 3:  Deo\n",
      "Enter the price of Deo: $ 53\n"
     ]
    },
    {
     "name": "stdout",
     "output_type": "stream",
     "text": [
      "The total cost of your shopping cart is: $117.90\n"
     ]
    }
   ],
   "source": [
    "def calculate_total_cost(items, prices):\n",
    "    if len(items) != len(prices):\n",
    "        return \"Error: Number of items and prices must be equal.\"\n",
    "\n",
    "    total_cost = 0\n",
    "    for i in range(len(items)):\n",
    "        total_cost += prices[i]\n",
    "\n",
    "    # Apply a discount based on the total cost\n",
    "    if total_cost >= 100:\n",
    "        discount = 0.1  # 10% discount for total cost >= $100\n",
    "        total_cost *= (1 - discount)\n",
    "\n",
    "    return total_cost\n",
    "\n",
    "# Get user input for items and prices\n",
    "try:\n",
    "    num_items = int(input(\"Enter the number of items in your shopping cart: \"))\n",
    "    \n",
    "    items = []\n",
    "    prices = []\n",
    "\n",
    "    for i in range(num_items):\n",
    "        item_name = input(\"Enter the name of item {}: \".format(i + 1))\n",
    "        item_price = float(input(\"Enter the price of {}: $\".format(item_name)))\n",
    "        \n",
    "        items.append(item_name)\n",
    "        prices.append(item_price)\n",
    "\n",
    "    # Call the function and print the result\n",
    "    total_cost = calculate_total_cost(items, prices)\n",
    "    print(\"The total cost of your shopping cart is: ${:.2f}\".format(total_cost))\n",
    "except ValueError:\n",
    "    print(\"Please enter valid numeric values for item prices.\")"
   ]
  },
  {
   "cell_type": "code",
   "execution_count": null,
   "id": "17b03a04-f37b-4ad8-8edc-d19ac92b21ba",
   "metadata": {},
   "outputs": [],
   "source": [
    "10. Write a program that checks if a given number is even or odd."
   ]
  },
  {
   "cell_type": "code",
   "execution_count": 2,
   "id": "e5943638-fd10-4e0b-a170-9b22bdae5436",
   "metadata": {},
   "outputs": [
    {
     "name": "stdin",
     "output_type": "stream",
     "text": [
      "Enter a number:  99\n"
     ]
    },
    {
     "name": "stdout",
     "output_type": "stream",
     "text": [
      "The number 99 is Odd\n"
     ]
    }
   ],
   "source": [
    "def check_even_odd(number):\n",
    "    if number % 2 == 0:\n",
    "        return \"Even\"\n",
    "    else:\n",
    "        return \"Odd\"\n",
    "\n",
    "# Get user input for a number\n",
    "try:\n",
    "    user_number = int(input(\"Enter a number: \"))\n",
    "    \n",
    "    # Call the function and print the result\n",
    "    result = check_even_odd(user_number)\n",
    "    print(\"The number {} is {}\".format(user_number, result))\n",
    "except ValueError:\n",
    "    print(\"Please enter a valid numeric value.\")"
   ]
  },
  {
   "cell_type": "code",
   "execution_count": null,
   "id": "91216572-edca-4139-a4eb-270f4bae595c",
   "metadata": {},
   "outputs": [],
   "source": [
    "Intermediate Level:"
   ]
  },
  {
   "cell_type": "code",
   "execution_count": null,
   "id": "610097b9-b537-4cb6-ab7c-62248e00906d",
   "metadata": {},
   "outputs": [],
   "source": [
    "11. Write a program that calculates the roots of a quadratic equation ."
   ]
  },
  {
   "cell_type": "code",
   "execution_count": 3,
   "id": "346cf42d-81ca-40ec-a503-896dc5146820",
   "metadata": {},
   "outputs": [
    {
     "name": "stdin",
     "output_type": "stream",
     "text": [
      "Enter the coefficient 'a':  4\n",
      "Enter the coefficient 'b':  8\n",
      "Enter the coefficient 'c':  9\n"
     ]
    },
    {
     "name": "stdout",
     "output_type": "stream",
     "text": [
      "The roots of the quadratic equation are: No real roots (complex roots)\n"
     ]
    }
   ],
   "source": [
    "import math\n",
    "\n",
    "def calculate_roots(a, b, c):\n",
    "    # Calculate the discriminant\n",
    "    discriminant = b**2 - 4*a*c\n",
    "    \n",
    "    # Check if the discriminant is non-negative\n",
    "    if discriminant >= 0:\n",
    "        # Calculate the roots\n",
    "        root1 = (-b + math.sqrt(discriminant)) / (2*a)\n",
    "        root2 = (-b - math.sqrt(discriminant)) / (2*a)\n",
    "        \n",
    "        return root1, root2\n",
    "    else:\n",
    "        return \"No real roots (complex roots)\"\n",
    "\n",
    "# Get user input for coefficients\n",
    "try:\n",
    "    a = float(input(\"Enter the coefficient 'a': \"))\n",
    "    b = float(input(\"Enter the coefficient 'b': \"))\n",
    "    c = float(input(\"Enter the coefficient 'c': \"))\n",
    "    \n",
    "    # Call the function and print the result\n",
    "    roots = calculate_roots(a, b, c)\n",
    "    print(\"The roots of the quadratic equation are: {}\".format(roots))\n",
    "except ValueError:\n",
    "    print(\"Please enter valid numeric values for coefficients.\")"
   ]
  },
  {
   "cell_type": "code",
   "execution_count": null,
   "id": "71737997-ab14-4903-9f5a-7c682ec83fa0",
   "metadata": {},
   "outputs": [],
   "source": [
    "12. Create a program that determines the day of the week based on the day number (1-7)."
   ]
  },
  {
   "cell_type": "code",
   "execution_count": 4,
   "id": "db247fb2-f2b6-4985-b19c-d5f6baea2b97",
   "metadata": {},
   "outputs": [
    {
     "name": "stdin",
     "output_type": "stream",
     "text": [
      "Enter the day number (1-7):  4\n"
     ]
    },
    {
     "name": "stdout",
     "output_type": "stream",
     "text": [
      "The day of the week for day number 4 is: Thursday\n"
     ]
    }
   ],
   "source": [
    "def determine_day_of_week(day_number):\n",
    "    days_of_week = [\"Monday\", \"Tuesday\", \"Wednesday\", \"Thursday\", \"Friday\", \"Saturday\", \"Sunday\"]\n",
    "    \n",
    "    if 1 <= day_number <= 7:\n",
    "        return days_of_week[day_number - 1]\n",
    "    else:\n",
    "        return \"Invalid day number. Please enter a number between 1 and 7.\"\n",
    "\n",
    "# Get user input for the day number\n",
    "try:\n",
    "    day_number = int(input(\"Enter the day number (1-7): \"))\n",
    "    \n",
    "    # Call the function and print the result\n",
    "    day_of_week = determine_day_of_week(day_number)\n",
    "    print(\"The day of the week for day number {} is: {}\".format(day_number, day_of_week))\n",
    "except ValueError:\n",
    "    print(\"Please enter a valid numeric value.\")"
   ]
  },
  {
   "cell_type": "code",
   "execution_count": null,
   "id": "ea4295ae-9c7b-4c70-9255-c4c4b6a6084d",
   "metadata": {},
   "outputs": [],
   "source": [
    "13. Develop a program that calculates the factorial of a given number using recursion."
   ]
  },
  {
   "cell_type": "code",
   "execution_count": 5,
   "id": "fc36ecaf-7593-4445-ba63-ceb32489ea11",
   "metadata": {},
   "outputs": [
    {
     "name": "stdin",
     "output_type": "stream",
     "text": [
      "Enter a non-negative integer to calculate its factorial:  8\n"
     ]
    },
    {
     "name": "stdout",
     "output_type": "stream",
     "text": [
      "The factorial of 8 is: 40320\n"
     ]
    }
   ],
   "source": [
    "def calculate_factorial(n):\n",
    "    if n == 0 or n == 1:\n",
    "        return 1\n",
    "    else:\n",
    "        return n * calculate_factorial(n - 1)\n",
    "\n",
    "# Get user input for the number\n",
    "try:\n",
    "    number = int(input(\"Enter a non-negative integer to calculate its factorial: \"))\n",
    "    \n",
    "    if number < 0:\n",
    "        print(\"Please enter a non-negative integer.\")\n",
    "    else:\n",
    "        # Call the function and print the result\n",
    "        factorial_result = calculate_factorial(number)\n",
    "        print(\"The factorial of {} is: {}\".format(number, factorial_result))\n",
    "except ValueError:\n",
    "    print(\"Please enter a valid non-negative integer.\")"
   ]
  },
  {
   "cell_type": "code",
   "execution_count": null,
   "id": "717c9976-a03c-4eaa-b858-d35257b85978",
   "metadata": {},
   "outputs": [],
   "source": [
    "14. Write a program to find the largest among three numbers without using the `max()` function."
   ]
  },
  {
   "cell_type": "code",
   "execution_count": 6,
   "id": "7c2e8af3-aa55-428b-8ade-bd3f0b0059d4",
   "metadata": {},
   "outputs": [
    {
     "name": "stdin",
     "output_type": "stream",
     "text": [
      "Enter the first number:  675\n",
      "Enter the second number:  746\n",
      "Enter the third number:  847\n"
     ]
    },
    {
     "name": "stdout",
     "output_type": "stream",
     "text": [
      "The largest number is: 847.0\n"
     ]
    }
   ],
   "source": [
    "def find_largest_number(num1, num2, num3):\n",
    "    if num1 >= num2 and num1 >= num3:\n",
    "        return num1\n",
    "    elif num2 >= num1 and num2 >= num3:\n",
    "        return num2\n",
    "    else:\n",
    "        return num3\n",
    "\n",
    "# Get user input for three numbers\n",
    "try:\n",
    "    num1 = float(input(\"Enter the first number: \"))\n",
    "    num2 = float(input(\"Enter the second number: \"))\n",
    "    num3 = float(input(\"Enter the third number: \"))\n",
    "    \n",
    "    # Call the function and print the result\n",
    "    largest_number = find_largest_number(num1, num2, num3)\n",
    "    print(\"The largest number is: {}\".format(largest_number))\n",
    "except ValueError:\n",
    "    print(\"Please enter valid numeric values.\")"
   ]
  },
  {
   "cell_type": "code",
   "execution_count": null,
   "id": "ab8a995e-ab21-456e-b1a4-d77c32b3c0f1",
   "metadata": {},
   "outputs": [],
   "source": [
    "15. Create a program that simulates a basic ATM transaction menu."
   ]
  },
  {
   "cell_type": "code",
   "execution_count": 7,
   "id": "f9fdd7da-869e-4877-84a2-07a6a17e881c",
   "metadata": {},
   "outputs": [
    {
     "name": "stdout",
     "output_type": "stream",
     "text": [
      "===== ATM Menu =====\n",
      "1. Check Balance\n",
      "2. Deposit Money\n",
      "3. Withdraw Money\n",
      "4. Quit\n"
     ]
    },
    {
     "name": "stdin",
     "output_type": "stream",
     "text": [
      "Enter your choice (1-4):  1\n"
     ]
    },
    {
     "name": "stdout",
     "output_type": "stream",
     "text": [
      "Your balance is: $1000.00\n",
      "===== ATM Menu =====\n",
      "1. Check Balance\n",
      "2. Deposit Money\n",
      "3. Withdraw Money\n",
      "4. Quit\n"
     ]
    },
    {
     "name": "stdin",
     "output_type": "stream",
     "text": [
      "Enter your choice (1-4):  4\n"
     ]
    },
    {
     "name": "stdout",
     "output_type": "stream",
     "text": [
      "Thank you for using the ATM. Have a great day!\n"
     ]
    }
   ],
   "source": [
    "def display_menu():\n",
    "    print(\"===== ATM Menu =====\")\n",
    "    print(\"1. Check Balance\")\n",
    "    print(\"2. Deposit Money\")\n",
    "    print(\"3. Withdraw Money\")\n",
    "    print(\"4. Quit\")\n",
    "\n",
    "def check_balance(balance):\n",
    "    print(\"Your balance is: ${:.2f}\".format(balance))\n",
    "\n",
    "def deposit_money(balance):\n",
    "    try:\n",
    "        amount = float(input(\"Enter the amount to deposit: $\"))\n",
    "        if amount > 0:\n",
    "            balance += amount\n",
    "            print(\"Deposit successful. Your new balance is: ${:.2f}\".format(balance))\n",
    "        else:\n",
    "            print(\"Please enter a valid positive amount.\")\n",
    "    except ValueError:\n",
    "        print(\"Invalid input. Please enter a numeric value.\")\n",
    "\n",
    "def withdraw_money(balance):\n",
    "    try:\n",
    "        amount = float(input(\"Enter the amount to withdraw: $\"))\n",
    "        if 0 < amount <= balance:\n",
    "            balance -= amount\n",
    "            print(\"Withdrawal successful. Your new balance is: ${:.2f}\".format(balance))\n",
    "        elif amount > balance:\n",
    "            print(\"Insufficient funds. Your balance is: ${:.2f}\".format(balance))\n",
    "        else:\n",
    "            print(\"Please enter a valid positive amount.\")\n",
    "    except ValueError:\n",
    "        print(\"Invalid input. Please enter a numeric value.\")\n",
    "\n",
    "# Initial balance\n",
    "balance = 1000.00\n",
    "\n",
    "# ATM transaction loop\n",
    "while True:\n",
    "    display_menu()\n",
    "    \n",
    "    try:\n",
    "        choice = int(input(\"Enter your choice (1-4): \"))\n",
    "        \n",
    "        if choice == 1:\n",
    "            check_balance(balance)\n",
    "        elif choice == 2:\n",
    "            deposit_money(balance)\n",
    "        elif choice == 3:\n",
    "            withdraw_money(balance)\n",
    "        elif choice == 4:\n",
    "            print(\"Thank you for using the ATM. Have a great day!\")\n",
    "            break\n",
    "        else:\n",
    "            print(\"Invalid choice. Please enter a number between 1 and 4.\")\n",
    "    except ValueError:\n",
    "        print(\"Invalid input. Please enter a numeric value.\")"
   ]
  },
  {
   "cell_type": "code",
   "execution_count": null,
   "id": "85a9a3e9-66f3-4732-8ad9-27dba59efb9d",
   "metadata": {},
   "outputs": [],
   "source": [
    "16. Build a program that checks if a given string is a palindrome or not."
   ]
  },
  {
   "cell_type": "code",
   "execution_count": 8,
   "id": "53799c43-1e85-4df1-a3a9-a475228f9f7f",
   "metadata": {},
   "outputs": [
    {
     "name": "stdin",
     "output_type": "stream",
     "text": [
      "Enter a string:  rar\n"
     ]
    },
    {
     "name": "stdout",
     "output_type": "stream",
     "text": [
      "The string 'rar' is a palindrome.\n"
     ]
    }
   ],
   "source": [
    "def is_palindrome(input_str):\n",
    "    # Remove spaces and convert to lowercase for case-insensitive comparison\n",
    "    cleaned_str = ''.join(input_str.split()).lower()\n",
    "    \n",
    "    # Check if the cleaned string is equal to its reverse\n",
    "    return cleaned_str == cleaned_str[::-1]\n",
    "\n",
    "# Get user input for a string\n",
    "user_input = input(\"Enter a string: \")\n",
    "\n",
    "# Call the function and print the result\n",
    "if is_palindrome(user_input):\n",
    "    print(\"The string '{}' is a palindrome.\".format(user_input))\n",
    "else:\n",
    "    print(\"The string '{}' is not a palindrome.\".format(user_input))"
   ]
  },
  {
   "cell_type": "code",
   "execution_count": null,
   "id": "d2c1c6eb-a888-444a-bdf8-68332e669c9e",
   "metadata": {},
   "outputs": [],
   "source": [
    "17. Write a program that calculates the average of a list of numbers, excluding the smallest and largest values."
   ]
  },
  {
   "cell_type": "code",
   "execution_count": 9,
   "id": "58f3c252-2c04-43df-ad0c-dc10ffc8527d",
   "metadata": {},
   "outputs": [
    {
     "name": "stdin",
     "output_type": "stream",
     "text": [
      "Enter a list of numbers separated by spaces:  54,63,87,78\n"
     ]
    },
    {
     "name": "stdout",
     "output_type": "stream",
     "text": [
      "Please enter valid numeric values.\n"
     ]
    }
   ],
   "source": [
    "def calculate_average(numbers):\n",
    "    if len(numbers) < 3:\n",
    "        return \"Not enough numbers to calculate an average.\"\n",
    "    \n",
    "    # Exclude the smallest and largest values\n",
    "    numbers.sort()\n",
    "    excluded_numbers = numbers[1:-1]\n",
    "    \n",
    "    # Calculate the average\n",
    "    average = sum(excluded_numbers) / len(excluded_numbers)\n",
    "    \n",
    "    return average\n",
    "\n",
    "# Get user input for a list of numbers\n",
    "try:\n",
    "    input_numbers = input(\"Enter a list of numbers separated by spaces: \")\n",
    "    numbers = [float(num) for num in input_numbers.split()]\n",
    "\n",
    "    # Call the function and print the result\n",
    "    result = calculate_average(numbers)\n",
    "    print(\"The average (excluding smallest and largest values) is: {:.2f}\".format(result))\n",
    "except ValueError:\n",
    "    print(\"Please enter valid numeric values.\")\n",
    "except Exception as e:\n",
    "    print(f\"An error occurred: {e}\")"
   ]
  },
  {
   "cell_type": "code",
   "execution_count": null,
   "id": "02a0f204-08ad-4d61-a381-8e9584e87333",
   "metadata": {},
   "outputs": [],
   "source": [
    "18. Develop a program that converts a given temperature from Celsius to Fahrenheit.\n"
   ]
  },
  {
   "cell_type": "code",
   "execution_count": 10,
   "id": "1b2af957-5e13-46b5-941c-892ea5e77ddb",
   "metadata": {},
   "outputs": [
    {
     "name": "stdin",
     "output_type": "stream",
     "text": [
      "Enter the temperature in Celsius:  74\n"
     ]
    },
    {
     "name": "stdout",
     "output_type": "stream",
     "text": [
      "74.00 degrees Celsius is equal to 165.20 degrees Fahrenheit.\n"
     ]
    }
   ],
   "source": [
    "def celsius_to_fahrenheit(celsius):\n",
    "    fahrenheit = (celsius * 9/5) + 32\n",
    "    return fahrenheit\n",
    "\n",
    "# Get user input for the temperature in Celsius\n",
    "try:\n",
    "    celsius_temp = float(input(\"Enter the temperature in Celsius: \"))\n",
    "    \n",
    "    # Call the function and print the result\n",
    "    fahrenheit_temp = celsius_to_fahrenheit(celsius_temp)\n",
    "    print(\"{:.2f} degrees Celsius is equal to {:.2f} degrees Fahrenheit.\".format(celsius_temp, fahrenheit_temp))\n",
    "except ValueError:\n",
    "    print(\"Please enter a valid numeric temperature.\")"
   ]
  },
  {
   "cell_type": "code",
   "execution_count": null,
   "id": "49c5371e-714f-46af-99d8-8d6199b1d931",
   "metadata": {},
   "outputs": [],
   "source": [
    "19. Create a program that simulates a basic calculator for addition, subtraction, multiplication, and division."
   ]
  },
  {
   "cell_type": "code",
   "execution_count": 11,
   "id": "29f5a57a-1582-4960-91d8-c1ce1dea1a3a",
   "metadata": {},
   "outputs": [
    {
     "name": "stdout",
     "output_type": "stream",
     "text": [
      "===== Calculator Menu =====\n",
      "1. Addition\n",
      "2. Subtraction\n",
      "3. Multiplication\n",
      "4. Division\n",
      "5. Quit\n"
     ]
    },
    {
     "name": "stdin",
     "output_type": "stream",
     "text": [
      "Enter your choice (1-5):  3\n",
      "Enter the first number:  66\n",
      "Enter the second number:  76\n"
     ]
    },
    {
     "name": "stdout",
     "output_type": "stream",
     "text": [
      "Result: 5016.00\n",
      "===== Calculator Menu =====\n",
      "1. Addition\n",
      "2. Subtraction\n",
      "3. Multiplication\n",
      "4. Division\n",
      "5. Quit\n"
     ]
    },
    {
     "name": "stdin",
     "output_type": "stream",
     "text": [
      "Enter your choice (1-5):  5\n"
     ]
    },
    {
     "name": "stdout",
     "output_type": "stream",
     "text": [
      "Calculator program exiting. Goodbye!\n"
     ]
    }
   ],
   "source": [
    "def add(x, y):\n",
    "    return x + y\n",
    "\n",
    "def subtract(x, y):\n",
    "    return x - y\n",
    "\n",
    "def multiply(x, y):\n",
    "    return x * y\n",
    "\n",
    "def divide(x, y):\n",
    "    if y != 0:\n",
    "        return x / y\n",
    "    else:\n",
    "        return \"Cannot divide by zero.\"\n",
    "\n",
    "# Calculator loop\n",
    "while True:\n",
    "    print(\"===== Calculator Menu =====\")\n",
    "    print(\"1. Addition\")\n",
    "    print(\"2. Subtraction\")\n",
    "    print(\"3. Multiplication\")\n",
    "    print(\"4. Division\")\n",
    "    print(\"5. Quit\")\n",
    "\n",
    "    try:\n",
    "        choice = int(input(\"Enter your choice (1-5): \"))\n",
    "\n",
    "        if choice == 5:\n",
    "            print(\"Calculator program exiting. Goodbye!\")\n",
    "            break\n",
    "\n",
    "        num1 = float(input(\"Enter the first number: \"))\n",
    "        num2 = float(input(\"Enter the second number: \"))\n",
    "\n",
    "        if choice == 1:\n",
    "            result = add(num1, num2)\n",
    "            print(\"Result: {:.2f}\".format(result))\n",
    "        elif choice == 2:\n",
    "            result = subtract(num1, num2)\n",
    "            print(\"Result: {:.2f}\".format(result))\n",
    "        elif choice == 3:\n",
    "            result = multiply(num1, num2)\n",
    "            print(\"Result: {:.2f}\".format(result))\n",
    "        elif choice == 4:\n",
    "            result = divide(num1, num2)\n",
    "            print(\"Result: {:.2f}\".format(result))\n",
    "        else:\n",
    "            print(\"Invalid choice. Please enter a number between 1 and 5.\")\n",
    "    except ValueError:\n",
    "        print(\"Invalid input. Please enter a numeric value.\")\n",
    "    except Exception as e:\n",
    "        print(f\"An error occurred: {e}\")"
   ]
  },
  {
   "cell_type": "code",
   "execution_count": null,
   "id": "cc675ba8-2f63-4bd4-9442-9766dcdd6650",
   "metadata": {},
   "outputs": [],
   "source": [
    "20. Write a program that determines the roots of a cubic equation using the Cardano formula."
   ]
  },
  {
   "cell_type": "code",
   "execution_count": 12,
   "id": "25489738-df3c-47f6-b13a-46365f813619",
   "metadata": {},
   "outputs": [
    {
     "name": "stdin",
     "output_type": "stream",
     "text": [
      "Enter the coefficient 'a':  56\n",
      "Enter the coefficient 'b':  89\n",
      "Enter the coefficient 'c':  67\n",
      "Enter the coefficient 'd':  98\n"
     ]
    },
    {
     "name": "stdout",
     "output_type": "stream",
     "text": [
      "An error occurred: 'float' object has no attribute 'sqrt'\n"
     ]
    }
   ],
   "source": [
    "import cmath  # Import the complex math module for handling complex roots\n",
    "\n",
    "def solve_cubic_equation(a, b, c, d):\n",
    "    # Calculate the discriminant and intermediate values\n",
    "    delta0 = c**2 - 3*b*d\n",
    "    delta1 = 2*c**3 - 9*b*c*d + 27*a*d**2\n",
    "    C = ((delta1 + (delta1**2 - 4*delta0**3).sqrt()) / 2)**(1/3)\n",
    "    \n",
    "    # Calculate the roots\n",
    "    root1 = (-1/(3*a)) * (c + C + delta0/C)\n",
    "    root2 = (-1/(3*a)) * (c + cmath.exp(2j * cmath.pi / 3) * C + delta0 / (C * cmath.exp(2j * cmath.pi / 3)))\n",
    "    root3 = (-1/(3*a)) * (c + cmath.exp(4j * cmath.pi / 3) * C + delta0 / (C * cmath.exp(4j * cmath.pi / 3)))\n",
    "    \n",
    "    return root1, root2, root3\n",
    "\n",
    "# Get user input for coefficients\n",
    "try:\n",
    "    a = float(input(\"Enter the coefficient 'a': \"))\n",
    "    b = float(input(\"Enter the coefficient 'b': \"))\n",
    "    c = float(input(\"Enter the coefficient 'c': \"))\n",
    "    d = float(input(\"Enter the coefficient 'd': \"))\n",
    "    \n",
    "    # Call the function and print the result\n",
    "    roots = solve_cubic_equation(a, b, c, d)\n",
    "    print(\"The roots of the cubic equation are:\")\n",
    "    for i, root in enumerate(roots, start=1):\n",
    "        print(\"Root {} : {}\".format(i, root))\n",
    "except ValueError:\n",
    "    print(\"Please enter valid numeric values for coefficients.\")\n",
    "except Exception as e:\n",
    "    print(f\"An error occurred: {e}\")"
   ]
  },
  {
   "cell_type": "code",
   "execution_count": null,
   "id": "cb0ce139-31db-4f78-a21e-a2cf80d332e6",
   "metadata": {},
   "outputs": [],
   "source": [
    "Advanced Level:"
   ]
  },
  {
   "cell_type": "code",
   "execution_count": null,
   "id": "bbd6e85c-5237-4308-ba2a-0cc89607c22e",
   "metadata": {},
   "outputs": [],
   "source": [
    "21. Create a program that calculates the income tax based on the user's income and tax brackets."
   ]
  },
  {
   "cell_type": "code",
   "execution_count": 13,
   "id": "7ef05acc-e5fe-47cd-8613-d5b37064b343",
   "metadata": {},
   "outputs": [
    {
     "name": "stdin",
     "output_type": "stream",
     "text": [
      "Enter your annual income: $ 6000\n"
     ]
    },
    {
     "name": "stdout",
     "output_type": "stream",
     "text": [
      "Your income tax is: $600.00\n"
     ]
    }
   ],
   "source": [
    "def calculate_income_tax(income):\n",
    "    # Define tax brackets and rates\n",
    "    brackets = [10000, 30000, 70000, float('inf')]\n",
    "    rates = [0.1, 0.2, 0.3, 0.4]\n",
    "    \n",
    "    # Initialize tax\n",
    "    tax = 0\n",
    "    \n",
    "    # Calculate tax based on brackets\n",
    "    for i in range(len(brackets)):\n",
    "        if income <= brackets[i]:\n",
    "            tax += income * rates[i]\n",
    "            break\n",
    "        else:\n",
    "            tax += brackets[i] * rates[i]\n",
    "            income -= brackets[i]\n",
    "    \n",
    "    return tax\n",
    "\n",
    "# Get user input for income\n",
    "try:\n",
    "    income = float(input(\"Enter your annual income: $\"))\n",
    "    \n",
    "    # Call the function and print the result\n",
    "    income_tax = calculate_income_tax(income)\n",
    "    print(\"Your income tax is: ${:.2f}\".format(income_tax))\n",
    "except ValueError:\n",
    "    print(\"Please enter a valid numeric value for income.\")\n",
    "except Exception as e:\n",
    "    print(f\"An error occurred: {e}\")"
   ]
  },
  {
   "cell_type": "code",
   "execution_count": null,
   "id": "cc4fbb66-5270-4f76-a30d-26c45763c4ff",
   "metadata": {},
   "outputs": [],
   "source": [
    "22. Write a program that simulates a rock-paper-scissors game against the computer."
   ]
  },
  {
   "cell_type": "code",
   "execution_count": 14,
   "id": "e76b8f33-6215-44a3-824f-5b0e069e1493",
   "metadata": {},
   "outputs": [
    {
     "name": "stdin",
     "output_type": "stream",
     "text": [
      "Enter your choice (rock, paper, or scissors):  paper\n"
     ]
    },
    {
     "name": "stdout",
     "output_type": "stream",
     "text": [
      "You chose: paper\n",
      "Computer chose: scissors\n",
      "Computer wins!\n"
     ]
    },
    {
     "name": "stdin",
     "output_type": "stream",
     "text": [
      "Do you want to play again? (yes/no):  yes\n",
      "Enter your choice (rock, paper, or scissors):  rock\n"
     ]
    },
    {
     "name": "stdout",
     "output_type": "stream",
     "text": [
      "You chose: rock\n",
      "Computer chose: paper\n",
      "Computer wins!\n"
     ]
    },
    {
     "name": "stdin",
     "output_type": "stream",
     "text": [
      "Do you want to play again? (yes/no):  no\n"
     ]
    },
    {
     "name": "stdout",
     "output_type": "stream",
     "text": [
      "Thanks for playing. Goodbye!\n"
     ]
    }
   ],
   "source": [
    "import random\n",
    "\n",
    "def get_user_choice():\n",
    "    user_choice = input(\"Enter your choice (rock, paper, or scissors): \").lower()\n",
    "    while user_choice not in ['rock', 'paper', 'scissors']:\n",
    "        print(\"Invalid choice. Please enter 'rock', 'paper', or 'scissors'.\")\n",
    "        user_choice = input(\"Enter your choice: \").lower()\n",
    "    return user_choice\n",
    "\n",
    "def get_computer_choice():\n",
    "    choices = ['rock', 'paper', 'scissors']\n",
    "    return random.choice(choices)\n",
    "\n",
    "def determine_winner(user_choice, computer_choice):\n",
    "    print(\"You chose: {}\".format(user_choice))\n",
    "    print(\"Computer chose: {}\".format(computer_choice))\n",
    "\n",
    "    if user_choice == computer_choice:\n",
    "        return \"It's a tie!\"\n",
    "    elif (\n",
    "        (user_choice == 'rock' and computer_choice == 'scissors') or\n",
    "        (user_choice == 'paper' and computer_choice == 'rock') or\n",
    "        (user_choice == 'scissors' and computer_choice == 'paper')\n",
    "    ):\n",
    "        return \"You win!\"\n",
    "    else:\n",
    "        return \"Computer wins!\"\n",
    "\n",
    "# Rock-Paper-Scissors game loop\n",
    "while True:\n",
    "    user_choice = get_user_choice()\n",
    "    computer_choice = get_computer_choice()\n",
    "    result = determine_winner(user_choice, computer_choice)\n",
    "\n",
    "    print(result)\n",
    "\n",
    "    play_again = input(\"Do you want to play again? (yes/no): \").lower()\n",
    "    if play_again != 'yes':\n",
    "        print(\"Thanks for playing. Goodbye!\")\n",
    "        break"
   ]
  },
  {
   "cell_type": "code",
   "execution_count": null,
   "id": "8eee61c7-5745-480f-af8b-e06ccf6c3e2b",
   "metadata": {},
   "outputs": [],
   "source": [
    "23. Develop a program that generates a random password based on user preferences (length, complexity)."
   ]
  },
  {
   "cell_type": "code",
   "execution_count": 18,
   "id": "d448dd0f-7449-43a5-91b1-f2a870a9f132",
   "metadata": {},
   "outputs": [
    {
     "name": "stdin",
     "output_type": "stream",
     "text": [
      "Enter the desired length of the password:  sandip8\n"
     ]
    },
    {
     "name": "stdout",
     "output_type": "stream",
     "text": [
      "Please enter a valid numeric value for password length.\n"
     ]
    }
   ],
   "source": [
    "import random\n",
    "import string\n",
    "\n",
    "def generate_password(length, use_uppercase, use_digits, use_special_chars):\n",
    "    characters = string.ascii_lowercase\n",
    "    if use_uppercase:\n",
    "        characters += string.ascii_uppercase\n",
    "    if use_digits:\n",
    "        characters += string.digits\n",
    "    if use_special_chars:\n",
    "        characters += string.punctuation\n",
    "\n",
    "    if length < 1 or not any([use_uppercase, use_digits, use_special_chars]):\n",
    "        print(\"Invalid parameters. Please choose a valid length and at least one complexity option.\")\n",
    "        return None\n",
    "\n",
    "    password = ''.join(random.choice(characters) for _ in range(length))\n",
    "    return password\n",
    "\n",
    "# Get user preferences for password generation\n",
    "try:\n",
    "    length = int(input(\"Enter the desired length of the password: \"))\n",
    "    use_uppercase = input(\"Include uppercase letters? (yes/no): \").lower() == 'yes'\n",
    "    use_digits = input(\"Include digits? (yes/no): \").lower() == 'yes'\n",
    "    use_special_chars = input(\"Include special characters? (yes/no): \").lower() == 'yes'\n",
    "\n",
    "    # Call the function and print the result\n",
    "    password = generate_password(length, use_uppercase, use_digits, use_special_chars)\n",
    "    if password:\n",
    "        print(\"Generated Password: {}\".format(password))\n",
    "except ValueError:\n",
    "    print(\"Please enter a valid numeric value for password length.\")\n",
    "except Exception as e:\n",
    "    print(f\"An error occurred: {e}\")"
   ]
  },
  {
   "cell_type": "code",
   "execution_count": null,
   "id": "7924b950-e27e-43a4-86b0-f74f01f25571",
   "metadata": {},
   "outputs": [],
   "source": [
    "24. Create a program that implements a simple text-based adventure game with branching scenarios."
   ]
  },
  {
   "cell_type": "code",
   "execution_count": 19,
   "id": "e4ce2d9c-45ca-43f5-946b-59ea94e57330",
   "metadata": {},
   "outputs": [
    {
     "name": "stdout",
     "output_type": "stream",
     "text": [
      "Welcome to the Adventure Game!\n",
      "You find yourself in a dark forest.\n",
      "You can see two paths ahead. Do you take the left path or the right path?\n"
     ]
    },
    {
     "name": "stdin",
     "output_type": "stream",
     "text": [
      "Enter your choice (left or right):  right\n"
     ]
    },
    {
     "name": "stdout",
     "output_type": "stream",
     "text": [
      "\n",
      "You chose the right path.\n",
      "The path leads you to a magical portal.\n",
      "Do you enter the portal or continue on the path?\n"
     ]
    },
    {
     "name": "stdin",
     "output_type": "stream",
     "text": [
      "1. Enter the portal\n",
      "2. Continue on the path\n",
      "Enter your choice (1 or 2):  1\n"
     ]
    },
    {
     "name": "stdout",
     "output_type": "stream",
     "text": [
      "\n",
      "You enter the portal and find yourself in a different dimension.\n",
      "You discover amazing treasures and magical creatures.\n",
      "Congratulations! You've won the game.\n"
     ]
    }
   ],
   "source": [
    "import time\n",
    "\n",
    "def intro():\n",
    "    print(\"Welcome to the Adventure Game!\")\n",
    "    time.sleep(1)\n",
    "    print(\"You find yourself in a dark forest.\")\n",
    "    time.sleep(1)\n",
    "    print(\"You can see two paths ahead. Do you take the left path or the right path?\")\n",
    "\n",
    "def left_path():\n",
    "    print(\"\\nYou chose the left path.\")\n",
    "    time.sleep(1)\n",
    "    print(\"As you walk deeper into the forest, you encounter a mysterious creature.\")\n",
    "    time.sleep(1)\n",
    "    print(\"What do you do?\")\n",
    "    time.sleep(1)\n",
    "    choice = input(\"1. Try to communicate\\n2. Run away\\nEnter your choice (1 or 2): \")\n",
    "    if choice == '1':\n",
    "        print(\"\\nThe creature turns out to be friendly and guides you to a hidden treasure.\")\n",
    "        time.sleep(1)\n",
    "        print(\"Congratulations! You've won the game.\")\n",
    "    elif choice == '2':\n",
    "        print(\"\\nYou run away quickly, but you miss the chance to discover the hidden treasure.\")\n",
    "        time.sleep(1)\n",
    "        print(\"Game over.\")\n",
    "    else:\n",
    "        print(\"\\nInvalid choice. Game over.\")\n",
    "\n",
    "def right_path():\n",
    "    print(\"\\nYou chose the right path.\")\n",
    "    time.sleep(1)\n",
    "    print(\"The path leads you to a magical portal.\")\n",
    "    time.sleep(1)\n",
    "    print(\"Do you enter the portal or continue on the path?\")\n",
    "    time.sleep(1)\n",
    "    choice = input(\"1. Enter the portal\\n2. Continue on the path\\nEnter your choice (1 or 2): \")\n",
    "    if choice == '1':\n",
    "        print(\"\\nYou enter the portal and find yourself in a different dimension.\")\n",
    "        time.sleep(1)\n",
    "        print(\"You discover amazing treasures and magical creatures.\")\n",
    "        time.sleep(1)\n",
    "        print(\"Congratulations! You've won the game.\")\n",
    "    elif choice == '2':\n",
    "        print(\"\\nYou continue on the path and encounter a sleeping dragon.\")\n",
    "        time.sleep(1)\n",
    "        print(\"What do you do?\")\n",
    "        time.sleep(1)\n",
    "        choice = input(\"1. Try to sneak past\\n2. Wake up the dragon\\nEnter your choice (1 or 2): \")\n",
    "        if choice == '1':\n",
    "            print(\"\\nYou successfully sneak past the dragon and continue your adventure.\")\n",
    "            time.sleep(1)\n",
    "            print(\"Congratulations! You've won the game.\")\n",
    "        elif choice == '2':\n",
    "            print(\"\\nYou wake up the dragon, and it breathes fire. Game over.\")\n",
    "        else:\n",
    "            print(\"\\nInvalid choice. Game over.\")\n",
    "    else:\n",
    "        print(\"\\nInvalid choice. Game over.\")\n",
    "\n",
    "# Adventure game loop\n",
    "def play_game():\n",
    "    intro()\n",
    "\n",
    "    choice = input(\"Enter your choice (left or right): \").lower()\n",
    "    if choice == 'left':\n",
    "        left_path()\n",
    "    elif choice == 'right':\n",
    "        right_path()\n",
    "    else:\n",
    "        print(\"\\nInvalid choice. Game over.\")\n",
    "\n",
    "# Start the game\n",
    "play_game()"
   ]
  },
  {
   "cell_type": "code",
   "execution_count": null,
   "id": "e4be39ac-fcd5-436b-bc9c-a657af015611",
   "metadata": {},
   "outputs": [],
   "source": [
    "25. Build a program that solves a linear equation  for x, considering different cases.\n"
   ]
  },
  {
   "cell_type": "code",
   "execution_count": 20,
   "id": "a2647623-147e-4c82-b429-482ab1115b3b",
   "metadata": {},
   "outputs": [
    {
     "name": "stdin",
     "output_type": "stream",
     "text": [
      "Enter the coefficient 'a':  49\n",
      "Enter the coefficient 'b':  81\n"
     ]
    },
    {
     "name": "stdout",
     "output_type": "stream",
     "text": [
      "The solution for the linear equation is: -1.653061224489796\n"
     ]
    }
   ],
   "source": [
    "def solve_linear_equation(a, b):\n",
    "    if a == 0:\n",
    "        if b == 0:\n",
    "            return \"Infinite solutions (all real numbers are solutions)\"\n",
    "        else:\n",
    "            return \"No solution (contradiction)\"\n",
    "    else:\n",
    "        x = -b / a\n",
    "        return x\n",
    "\n",
    "# Get user input for coefficients\n",
    "try:\n",
    "    a = float(input(\"Enter the coefficient 'a': \"))\n",
    "    b = float(input(\"Enter the coefficient 'b': \"))\n",
    "    \n",
    "    # Call the function and print the result\n",
    "    solution = solve_linear_equation(a, b)\n",
    "    print(\"The solution for the linear equation is: {}\".format(solution))\n",
    "except ValueError:\n",
    "    print(\"Please enter valid numeric values for coefficients.\")\n",
    "except Exception as e:\n",
    "    print(f\"An error occurred: {e}\")"
   ]
  },
  {
   "cell_type": "code",
   "execution_count": null,
   "id": "3352672e-2e00-4688-a1ef-6e002a616473",
   "metadata": {},
   "outputs": [],
   "source": [
    "26. Write a program that simulates a basic quiz game with multiple-choice questions and scoring."
   ]
  },
  {
   "cell_type": "code",
   "execution_count": 1,
   "id": "73b723d1-07a3-4138-87d3-32b1e2610869",
   "metadata": {},
   "outputs": [
    {
     "name": "stdout",
     "output_type": "stream",
     "text": [
      "\n",
      "Question: What is the largest mammal on Earth?\n",
      "1. Elephant\n",
      "2. Blue Whale\n",
      "3. Giraffe\n",
      "4. Hippopotamus\n"
     ]
    },
    {
     "name": "stdin",
     "output_type": "stream",
     "text": [
      "Enter the number of your answer:  2\n"
     ]
    },
    {
     "name": "stdout",
     "output_type": "stream",
     "text": [
      "Correct! You earn 1 point.\n",
      "\n",
      "Question: Which planet is known as the Red Planet?\n",
      "1. Mars\n",
      "2. Venus\n",
      "3. Jupiter\n",
      "4. Saturn\n"
     ]
    },
    {
     "name": "stdin",
     "output_type": "stream",
     "text": [
      "Enter the number of your answer:  1\n"
     ]
    },
    {
     "name": "stdout",
     "output_type": "stream",
     "text": [
      "Correct! You earn 1 point.\n",
      "\n",
      "Question: What is the capital of France?\n",
      "1. Berlin\n",
      "2. Paris\n",
      "3. London\n",
      "4. Madrid\n"
     ]
    },
    {
     "name": "stdin",
     "output_type": "stream",
     "text": [
      "Enter the number of your answer:  2\n"
     ]
    },
    {
     "name": "stdout",
     "output_type": "stream",
     "text": [
      "Correct! You earn 1 point.\n",
      "\n",
      "Quiz completed! Your final score is: 3/3\n"
     ]
    }
   ],
   "source": [
    "import random\n",
    "\n",
    "class QuizGame:\n",
    "    def __init__(self, questions):\n",
    "        self.questions = questions\n",
    "        self.score = 0\n",
    "\n",
    "    def ask_question(self, question):\n",
    "        print(\"\\nQuestion: {}\".format(question[\"text\"]))\n",
    "        for i, option in enumerate(question[\"options\"], start=1):\n",
    "            print(\"{}. {}\".format(i, option))\n",
    "        user_answer = input(\"Enter the number of your answer: \")\n",
    "        correct_answer = question[\"answer\"]\n",
    "        if user_answer.isdigit() and 1 <= int(user_answer) <= len(question[\"options\"]):\n",
    "            user_answer = int(user_answer)\n",
    "            if question[\"options\"][user_answer - 1] == correct_answer:\n",
    "                print(\"Correct! You earn 1 point.\")\n",
    "                self.score += 1\n",
    "            else:\n",
    "                print(\"Incorrect. The correct answer is: {}\".format(correct_answer))\n",
    "        else:\n",
    "            print(\"Invalid input. Please enter a number between 1 and {}.\".format(len(question[\"options\"])))\n",
    "\n",
    "    def play(self):\n",
    "        random.shuffle(self.questions)\n",
    "        for question in self.questions:\n",
    "            self.ask_question(question)\n",
    "        print(\"\\nQuiz completed! Your final score is: {}/{}\".format(self.score, len(self.questions)))\n",
    "\n",
    "# Example questions (you can add more questions)\n",
    "questions = [\n",
    "    {\n",
    "        \"text\": \"What is the capital of France?\",\n",
    "        \"options\": [\"Berlin\", \"Paris\", \"London\", \"Madrid\"],\n",
    "        \"answer\": \"Paris\"\n",
    "    },\n",
    "    {\n",
    "        \"text\": \"Which planet is known as the Red Planet?\",\n",
    "        \"options\": [\"Mars\", \"Venus\", \"Jupiter\", \"Saturn\"],\n",
    "        \"answer\": \"Mars\"\n",
    "    },\n",
    "    {\n",
    "        \"text\": \"What is the largest mammal on Earth?\",\n",
    "        \"options\": [\"Elephant\", \"Blue Whale\", \"Giraffe\", \"Hippopotamus\"],\n",
    "        \"answer\": \"Blue Whale\"\n",
    "    }\n",
    "]\n",
    "\n",
    "# Create a QuizGame instance and play the game\n",
    "quiz_game = QuizGame(questions)\n",
    "quiz_game.play()"
   ]
  },
  {
   "cell_type": "code",
   "execution_count": null,
   "id": "961618bc-aa97-4947-836b-6340cc42d876",
   "metadata": {},
   "outputs": [],
   "source": [
    "27. Develop a program that determines whether a given year is a prime number or not."
   ]
  },
  {
   "cell_type": "code",
   "execution_count": 2,
   "id": "a37d8ff4-27b1-4bd2-80b8-6f53d01a149b",
   "metadata": {},
   "outputs": [
    {
     "name": "stdin",
     "output_type": "stream",
     "text": [
      "Enter a year to check if it's a prime number:  89\n"
     ]
    },
    {
     "name": "stdout",
     "output_type": "stream",
     "text": [
      "89 is a prime number.\n"
     ]
    }
   ],
   "source": [
    "def is_prime(year):\n",
    "    if year < 2:\n",
    "        return False\n",
    "    for i in range(2, int(year**0.5) + 1):\n",
    "        if year % i == 0:\n",
    "            return False\n",
    "    return True\n",
    "\n",
    "# Get user input for the year\n",
    "try:\n",
    "    year = int(input(\"Enter a year to check if it's a prime number: \"))\n",
    "    \n",
    "    # Call the function and print the result\n",
    "    if is_prime(year):\n",
    "        print(\"{} is a prime number.\".format(year))\n",
    "    else:\n",
    "        print(\"{} is not a prime number.\".format(year))\n",
    "except ValueError:\n",
    "    print(\"Please enter a valid numeric value for the year.\")\n",
    "except Exception as e:\n",
    "    print(f\"An error occurred: {e}\")"
   ]
  },
  {
   "cell_type": "code",
   "execution_count": null,
   "id": "4d2e29b5-e36a-4ed8-99a7-1b1b030356ff",
   "metadata": {},
   "outputs": [],
   "source": [
    "28. Create a program that sorts three numbers in ascending order using conditional statements."
   ]
  },
  {
   "cell_type": "code",
   "execution_count": 3,
   "id": "3db22bf9-7b48-41c5-aa8b-138efb35e09f",
   "metadata": {},
   "outputs": [
    {
     "name": "stdin",
     "output_type": "stream",
     "text": [
      "Enter the first number:  76\n",
      "Enter the second number:  98\n",
      "Enter the third number:  68\n"
     ]
    },
    {
     "name": "stdout",
     "output_type": "stream",
     "text": [
      "Numbers in ascending order: 68.0, 76.0, 98.0\n"
     ]
    }
   ],
   "source": [
    "def sort_numbers(num1, num2, num3):\n",
    "    if num1 <= num2 and num1 <= num3:\n",
    "        smallest = num1\n",
    "        if num2 <= num3:\n",
    "            middle = num2\n",
    "            largest = num3\n",
    "        else:\n",
    "            middle = num3\n",
    "            largest = num2\n",
    "    elif num2 <= num1 and num2 <= num3:\n",
    "        smallest = num2\n",
    "        if num1 <= num3:\n",
    "            middle = num1\n",
    "            largest = num3\n",
    "        else:\n",
    "            middle = num3\n",
    "            largest = num1\n",
    "    else:\n",
    "        smallest = num3\n",
    "        if num1 <= num2:\n",
    "            middle = num1\n",
    "            largest = num2\n",
    "        else:\n",
    "            middle = num2\n",
    "            largest = num1\n",
    "    \n",
    "    return smallest, middle, largest\n",
    "\n",
    "# Get user input for three numbers\n",
    "try:\n",
    "    num1 = float(input(\"Enter the first number: \"))\n",
    "    num2 = float(input(\"Enter the second number: \"))\n",
    "    num3 = float(input(\"Enter the third number: \"))\n",
    "    \n",
    "    # Call the function and print the result\n",
    "    sorted_numbers = sort_numbers(num1, num2, num3)\n",
    "    print(\"Numbers in ascending order: {}, {}, {}\".format(sorted_numbers[0], sorted_numbers[1], sorted_numbers[2]))\n",
    "except ValueError:\n",
    "    print(\"Please enter valid numeric values.\")\n",
    "except Exception as e:\n",
    "    print(f\"An error occurred: {e}\")"
   ]
  },
  {
   "cell_type": "code",
   "execution_count": null,
   "id": "d5d59312-b062-4d88-8acf-462a6c1da321",
   "metadata": {},
   "outputs": [],
   "source": [
    "29. Build a program that determines the roots of a quartic equation using numerical methods."
   ]
  },
  {
   "cell_type": "code",
   "execution_count": 4,
   "id": "d2249c45-1e79-4ce2-b316-902c8604a011",
   "metadata": {},
   "outputs": [
    {
     "name": "stdin",
     "output_type": "stream",
     "text": [
      "Enter coefficient for x^4:  776\n",
      "Enter coefficient for x^3:  987\n",
      "Enter coefficient for x^2:  657\n",
      "Enter coefficient for x^1:  676\n",
      "Enter coefficient for x^0:  978\n",
      "Enter an initial guess for a root:  456\n"
     ]
    },
    {
     "name": "stdout",
     "output_type": "stream",
     "text": [
      "Newton-Raphson method did not converge to a root.\n"
     ]
    }
   ],
   "source": [
    "def quartic_equation(x, coefficients):\n",
    "    return sum(coef * x**i for i, coef in enumerate(coefficients))\n",
    "\n",
    "def derivative_quartic_equation(x, coefficients):\n",
    "    return sum(i * coef * x**(i-1) for i, coef in enumerate(coefficients) if i > 0)\n",
    "\n",
    "def newton_raphson_quartic(coefficients, initial_guess, tolerance=1e-6, max_iterations=100):\n",
    "    x = initial_guess\n",
    "    for iteration in range(max_iterations):\n",
    "        f_x = quartic_equation(x, coefficients)\n",
    "        f_prime_x = derivative_quartic_equation(x, coefficients)\n",
    "\n",
    "        if abs(f_prime_x) < tolerance:\n",
    "            return x  # Avoid division by very small derivative\n",
    "\n",
    "        x -= f_x / f_prime_x\n",
    "\n",
    "        if abs(f_x) < tolerance:\n",
    "            return x  # Converged to a root\n",
    "\n",
    "    return None  # Newton-Raphson method did not converge\n",
    "\n",
    "# Get user input for coefficients\n",
    "try:\n",
    "    coefficients = []\n",
    "    for i in range(5):\n",
    "        coef = float(input(\"Enter coefficient for x^{}: \".format(4-i)))\n",
    "        coefficients.append(coef)\n",
    "\n",
    "    # Get user input for initial guess\n",
    "    initial_guess = float(input(\"Enter an initial guess for a root: \"))\n",
    "\n",
    "    # Call the function and print the result\n",
    "    root = newton_raphson_quartic(coefficients, initial_guess)\n",
    "    if root is not None:\n",
    "        print(\"One root of the quartic equation is: {:.6f}\".format(root))\n",
    "    else:\n",
    "        print(\"Newton-Raphson method did not converge to a root.\")\n",
    "except ValueError:\n",
    "    print(\"Please enter valid numeric values.\")\n",
    "except Exception as e:\n",
    "    print(f\"An error occurred: {e}\")"
   ]
  },
  {
   "cell_type": "code",
   "execution_count": null,
   "id": "44e598d8-d6ee-4fd5-b9b8-d6227ce71e88",
   "metadata": {},
   "outputs": [],
   "source": [
    "30. Write a program that calculates the BMI (Body Mass Index) and provides health recommendations based on the user's input."
   ]
  },
  {
   "cell_type": "code",
   "execution_count": 5,
   "id": "b1f08a1f-1bc0-4b08-b347-a654f12fe1e6",
   "metadata": {},
   "outputs": [
    {
     "name": "stdin",
     "output_type": "stream",
     "text": [
      "Enter your weight in kilograms:  65\n",
      "Enter your height in meters:  3\n"
     ]
    },
    {
     "name": "stdout",
     "output_type": "stream",
     "text": [
      "Your BMI is: 7.22\n",
      "Interpretation: Underweight\n",
      "Health recommendations:\n",
      "- Consider consulting with a healthcare professional for guidance.\n"
     ]
    }
   ],
   "source": [
    "def calculate_bmi(weight, height):\n",
    "    # BMI formula: weight (kg) / (height (m))^2\n",
    "    return weight / (height ** 2)\n",
    "\n",
    "def interpret_bmi(bmi):\n",
    "    if bmi < 18.5:\n",
    "        return \"Underweight\"\n",
    "    elif 18.5 <= bmi < 24.9:\n",
    "        return \"Normal weight\"\n",
    "    elif 25 <= bmi < 29.9:\n",
    "        return \"Overweight\"\n",
    "    else:\n",
    "        return \"Obese\"\n",
    "\n",
    "# Get user input for weight and height\n",
    "try:\n",
    "    weight = float(input(\"Enter your weight in kilograms: \"))\n",
    "    height = float(input(\"Enter your height in meters: \"))\n",
    "    \n",
    "    # Call the function and print the result\n",
    "    bmi = calculate_bmi(weight, height)\n",
    "    print(\"Your BMI is: {:.2f}\".format(bmi))\n",
    "    \n",
    "    # Interpret the BMI and provide health recommendations\n",
    "    interpretation = interpret_bmi(bmi)\n",
    "    print(\"Interpretation: {}\".format(interpretation))\n",
    "    \n",
    "    if interpretation in [\"Underweight\", \"Overweight\", \"Obese\"]:\n",
    "        print(\"Health recommendations:\")\n",
    "        if interpretation == \"Underweight\":\n",
    "            print(\"- Consider consulting with a healthcare professional for guidance.\")\n",
    "        elif interpretation == \"Overweight\":\n",
    "            print(\"- Consider incorporating regular exercise and a balanced diet.\")\n",
    "        elif interpretation == \"Obese\":\n",
    "            print(\"- Consult with a healthcare professional for personalized advice.\")\n",
    "except ValueError:\n",
    "    print(\"Please enter valid numeric values for weight and height.\")\n",
    "except Exception as e:\n",
    "    print(f\"An error occurred: {e}\")"
   ]
  },
  {
   "cell_type": "code",
   "execution_count": null,
   "id": "4be40c1e-a98f-43ea-a5b9-37baba1fc726",
   "metadata": {},
   "outputs": [],
   "source": [
    "Challenge Level"
   ]
  },
  {
   "cell_type": "code",
   "execution_count": null,
   "id": "5d41b275-e662-41ed-b3b8-8a7b5df371e4",
   "metadata": {},
   "outputs": [],
   "source": [
    "31. Create a program that validates a password based on complexity rules (length, characters, etc.)."
   ]
  },
  {
   "cell_type": "code",
   "execution_count": 6,
   "id": "8838dfa9-c5f2-4b76-946d-a35f0aeae62f",
   "metadata": {},
   "outputs": [
    {
     "name": "stdin",
     "output_type": "stream",
     "text": [
      "Enter a password:  Pass@123\n"
     ]
    },
    {
     "name": "stdout",
     "output_type": "stream",
     "text": [
      "The password is valid.\n"
     ]
    }
   ],
   "source": [
    "import re\n",
    "\n",
    "def is_valid_password(password):\n",
    "    # Check if the password meets the length requirement (at least 8 characters)\n",
    "    if len(password) < 8:\n",
    "        return False\n",
    "    \n",
    "    # Check if the password contains at least one uppercase letter\n",
    "    if not any(char.isupper() for char in password):\n",
    "        return False\n",
    "    \n",
    "    # Check if the password contains at least one lowercase letter\n",
    "    if not any(char.islower() for char in password):\n",
    "        return False\n",
    "    \n",
    "    # Check if the password contains at least one digit\n",
    "    if not any(char.isdigit() for char in password):\n",
    "        return False\n",
    "    \n",
    "    # Check if the password contains at least one special character (e.g., !@#$%^&*)\n",
    "    if not re.search(r'[!@#$%^&*]', password):\n",
    "        return False\n",
    "    \n",
    "    # If all checks pass, the password is valid\n",
    "    return True\n",
    "\n",
    "# Get user input for a password\n",
    "try:\n",
    "    password = input(\"Enter a password: \")\n",
    "    \n",
    "    # Call the function and print the result\n",
    "    if is_valid_password(password):\n",
    "        print(\"The password is valid.\")\n",
    "    else:\n",
    "        print(\"The password does not meet the complexity requirements.\")\n",
    "except Exception as e:\n",
    "    print(f\"An error occurred: {e}\")"
   ]
  },
  {
   "cell_type": "code",
   "execution_count": null,
   "id": "b709b9b4-46d8-4f2f-8c7a-82cdf5ccba45",
   "metadata": {},
   "outputs": [],
   "source": [
    "32. Develop a program that performs matrix addition and subtraction based on user input."
   ]
  },
  {
   "cell_type": "code",
   "execution_count": 1,
   "id": "05009a7e-e00f-4f2b-973f-dea5ed4db6db",
   "metadata": {},
   "outputs": [
    {
     "name": "stdin",
     "output_type": "stream",
     "text": [
      "Enter the number of rows for the matrices:  2\n",
      "Enter the number of columns for the matrices:  2\n"
     ]
    },
    {
     "name": "stdout",
     "output_type": "stream",
     "text": [
      "Enter elements for the first matrix:\n"
     ]
    },
    {
     "name": "stdin",
     "output_type": "stream",
     "text": [
      "Enter element at position (1, 1):  23\n",
      "Enter element at position (1, 2):  43\n",
      "Enter element at position (2, 1):  54\n",
      "Enter element at position (2, 2):  32\n"
     ]
    },
    {
     "name": "stdout",
     "output_type": "stream",
     "text": [
      "Enter elements for the second matrix:\n"
     ]
    },
    {
     "name": "stdin",
     "output_type": "stream",
     "text": [
      "Enter element at position (1, 1):  22\n",
      "Enter element at position (1, 2):  43\n",
      "Enter element at position (2, 1):  54\n",
      "Enter element at position (2, 2):  12\n"
     ]
    },
    {
     "name": "stdout",
     "output_type": "stream",
     "text": [
      "\n",
      "Matrix 1:\n",
      "[23.0, 43.0]\n",
      "[54.0, 32.0]\n",
      "\n",
      "Matrix 2:\n",
      "[22.0, 43.0]\n",
      "[54.0, 12.0]\n",
      "\n",
      "Matrix Addition Result:\n",
      "[45.0, 86.0]\n",
      "[108.0, 44.0]\n",
      "\n",
      "Matrix Subtraction Result:\n",
      "[1.0, 0.0]\n",
      "[0.0, 20.0]\n"
     ]
    }
   ],
   "source": [
    "def matrix_addition(matrix1, matrix2):\n",
    "    result = []\n",
    "    for i in range(len(matrix1)):\n",
    "        row = [matrix1[i][j] + matrix2[i][j] for j in range(len(matrix1[0]))]\n",
    "        result.append(row)\n",
    "    return result\n",
    "\n",
    "def matrix_subtraction(matrix1, matrix2):\n",
    "    result = []\n",
    "    for i in range(len(matrix1)):\n",
    "        row = [matrix1[i][j] - matrix2[i][j] for j in range(len(matrix1[0]))]\n",
    "        result.append(row)\n",
    "    return result\n",
    "\n",
    "def print_matrix(matrix, label):\n",
    "    print(\"\\n{}:\".format(label))\n",
    "    for row in matrix:\n",
    "        print(row)\n",
    "\n",
    "# Get user input for matrix dimensions and elements\n",
    "try:\n",
    "    rows = int(input(\"Enter the number of rows for the matrices: \"))\n",
    "    cols = int(input(\"Enter the number of columns for the matrices: \"))\n",
    "\n",
    "    print(\"Enter elements for the first matrix:\")\n",
    "    matrix1 = [[float(input(\"Enter element at position ({}, {}): \".format(i + 1, j + 1))) for j in range(cols)] for i in range(rows)]\n",
    "\n",
    "    print(\"Enter elements for the second matrix:\")\n",
    "    matrix2 = [[float(input(\"Enter element at position ({}, {}): \".format(i + 1, j + 1))) for j in range(cols)] for i in range(rows)]\n",
    "\n",
    "    # Call the functions and print the result\n",
    "    result_addition = matrix_addition(matrix1, matrix2)\n",
    "    result_subtraction = matrix_subtraction(matrix1, matrix2)\n",
    "\n",
    "    print_matrix(matrix1, \"Matrix 1\")\n",
    "    print_matrix(matrix2, \"Matrix 2\")\n",
    "    print_matrix(result_addition, \"Matrix Addition Result\")\n",
    "    print_matrix(result_subtraction, \"Matrix Subtraction Result\")\n",
    "\n",
    "except ValueError:\n",
    "    print(\"Please enter valid numeric values for matrix elements.\")\n",
    "except Exception as e:\n",
    "    print(f\"An error occurred: {e}\")"
   ]
  },
  {
   "cell_type": "code",
   "execution_count": null,
   "id": "e0d0564d-0a8c-48f4-84ed-7138d07a61a8",
   "metadata": {},
   "outputs": [],
   "source": [
    "33. Write a program that calculates the greatest common divisor (GCD) of two numbers using the Euclidean algorithm."
   ]
  },
  {
   "cell_type": "code",
   "execution_count": 2,
   "id": "a543c33f-f539-48a4-8b0d-35cfaa465aa9",
   "metadata": {},
   "outputs": [
    {
     "name": "stdin",
     "output_type": "stream",
     "text": [
      "Enter the first number:  4\n",
      "Enter the second number:  8\n"
     ]
    },
    {
     "name": "stdout",
     "output_type": "stream",
     "text": [
      "The GCD of 4 and 8 is: 4\n"
     ]
    }
   ],
   "source": [
    "def euclidean_gcd(a, b):\n",
    "    while b != 0:\n",
    "        a, b = b, a % b\n",
    "    return a\n",
    "\n",
    "# Get user input for two numbers\n",
    "try:\n",
    "    num1 = int(input(\"Enter the first number: \"))\n",
    "    num2 = int(input(\"Enter the second number: \"))\n",
    "    \n",
    "    # Call the function and print the result\n",
    "    gcd = euclidean_gcd(num1, num2)\n",
    "    print(\"The GCD of {} and {} is: {}\".format(num1, num2, gcd))\n",
    "except ValueError:\n",
    "    print(\"Please enter valid numeric values for the numbers.\")\n",
    "except Exception as e:\n",
    "    print(f\"An error occurred: {e}\")"
   ]
  },
  {
   "cell_type": "code",
   "execution_count": null,
   "id": "51a4a1b4-3faf-4621-b457-27a0c9b88a55",
   "metadata": {},
   "outputs": [],
   "source": [
    "34. Build a program that performs matrix multiplication using nested loops and conditional statements."
   ]
  },
  {
   "cell_type": "code",
   "execution_count": 3,
   "id": "31e65a85-f134-41e0-9145-12a4496d5c5d",
   "metadata": {},
   "outputs": [
    {
     "name": "stdin",
     "output_type": "stream",
     "text": [
      "Enter the number of rows for the first matrix:  3\n",
      "Enter the number of columns for the first matrix:  2\n"
     ]
    },
    {
     "name": "stdout",
     "output_type": "stream",
     "text": [
      "Enter elements for the first matrix:\n"
     ]
    },
    {
     "name": "stdin",
     "output_type": "stream",
     "text": [
      "Enter element at position (1, 1):  24\n",
      "Enter element at position (1, 2):  23\n",
      "Enter element at position (2, 1):  42\n",
      "Enter element at position (2, 2):  23\n",
      "Enter element at position (3, 1):  43\n",
      "Enter element at position (3, 2):  34\n",
      "Enter the number of rows for the second matrix:  3\n",
      "Enter the number of columns for the second matrix:  2\n"
     ]
    },
    {
     "name": "stdout",
     "output_type": "stream",
     "text": [
      "Enter elements for the second matrix:\n"
     ]
    },
    {
     "name": "stdin",
     "output_type": "stream",
     "text": [
      "Enter element at position (1, 1):  32\n",
      "Enter element at position (1, 2):  22\n",
      "Enter element at position (2, 1):  43\n",
      "Enter element at position (2, 2):  23\n",
      "Enter element at position (3, 1):  34\n",
      "Enter element at position (3, 2):  43\n"
     ]
    },
    {
     "name": "stdout",
     "output_type": "stream",
     "text": [
      "Number of columns in the first matrix must be equal to the number of rows in the second matrix.\n"
     ]
    }
   ],
   "source": [
    "def matrix_multiplication(matrix1, matrix2):\n",
    "    if len(matrix1[0]) != len(matrix2):\n",
    "        raise ValueError(\"Number of columns in the first matrix must be equal to the number of rows in the second matrix.\")\n",
    "\n",
    "    result = []\n",
    "    for i in range(len(matrix1)):\n",
    "        row_result = []\n",
    "        for j in range(len(matrix2[0])):\n",
    "            # Calculate the dot product of the i-th row of matrix1 and the j-th column of matrix2\n",
    "            dot_product = sum(matrix1[i][k] * matrix2[k][j] for k in range(len(matrix1[0])))\n",
    "            row_result.append(dot_product)\n",
    "        result.append(row_result)\n",
    "\n",
    "    return result\n",
    "\n",
    "def print_matrix(matrix, label):\n",
    "    print(\"\\n{}:\".format(label))\n",
    "    for row in matrix:\n",
    "        print(row)\n",
    "\n",
    "# Get user input for matrix dimensions and elements\n",
    "try:\n",
    "    rows1 = int(input(\"Enter the number of rows for the first matrix: \"))\n",
    "    cols1 = int(input(\"Enter the number of columns for the first matrix: \"))\n",
    "\n",
    "    print(\"Enter elements for the first matrix:\")\n",
    "    matrix1 = [[float(input(\"Enter element at position ({}, {}): \".format(i + 1, j + 1))) for j in range(cols1)] for i in range(rows1)]\n",
    "\n",
    "    rows2 = int(input(\"Enter the number of rows for the second matrix: \"))\n",
    "    cols2 = int(input(\"Enter the number of columns for the second matrix: \"))\n",
    "\n",
    "    print(\"Enter elements for the second matrix:\")\n",
    "    matrix2 = [[float(input(\"Enter element at position ({}, {}): \".format(i + 1, j + 1))) for j in range(cols2)] for i in range(rows2)]\n",
    "\n",
    "    # Call the function and print the result\n",
    "    result_multiplication = matrix_multiplication(matrix1, matrix2)\n",
    "\n",
    "    print_matrix(matrix1, \"Matrix 1\")\n",
    "    print_matrix(matrix2, \"Matrix 2\")\n",
    "    print_matrix(result_multiplication, \"Matrix Multiplication Result\")\n",
    "\n",
    "except ValueError as ve:\n",
    "    print(ve)\n",
    "except Exception as e:\n",
    "    print(f\"An error occurred: {e}\")"
   ]
  },
  {
   "cell_type": "code",
   "execution_count": null,
   "id": "632753df-d85b-40f0-bf30-9b72173817bd",
   "metadata": {},
   "outputs": [],
   "source": [
    "35. Create a program that simulates a basic text-based tic-tac-toe game against the computer."
   ]
  },
  {
   "cell_type": "code",
   "execution_count": null,
   "id": "89557fb6-1c2b-419c-9b1b-190e9db56ce1",
   "metadata": {},
   "outputs": [
    {
     "name": "stdout",
     "output_type": "stream",
     "text": [
      "Welcome to Tic-Tac-Toe!\n",
      " | | \n",
      "-----\n",
      " | | \n",
      "-----\n",
      " | | \n",
      "-----\n"
     ]
    },
    {
     "name": "stdin",
     "output_type": "stream",
     "text": [
      "Enter the row (1, 2, or 3):  2\n",
      "Enter the column (1, 2, or 3):  2\n"
     ]
    },
    {
     "name": "stdout",
     "output_type": "stream",
     "text": [
      "Computer's move:\n",
      " | | \n",
      "-----\n",
      " |X| \n",
      "-----\n",
      " |O| \n",
      "-----\n"
     ]
    },
    {
     "name": "stdin",
     "output_type": "stream",
     "text": [
      "Enter the row (1, 2, or 3):  1\n",
      "Enter the column (1, 2, or 3):  3\n"
     ]
    },
    {
     "name": "stdout",
     "output_type": "stream",
     "text": [
      "Computer's move:\n",
      " | |X\n",
      "-----\n",
      "O|X| \n",
      "-----\n",
      " |O| \n",
      "-----\n"
     ]
    },
    {
     "name": "stdin",
     "output_type": "stream",
     "text": [
      "Enter the row (1, 2, or 3):  3\n",
      "Enter the column (1, 2, or 3):  3\n"
     ]
    },
    {
     "name": "stdout",
     "output_type": "stream",
     "text": [
      "Computer's move:\n",
      "O| |X\n",
      "-----\n",
      "O|X| \n",
      "-----\n",
      " |O|X\n",
      "-----\n"
     ]
    },
    {
     "name": "stdin",
     "output_type": "stream",
     "text": [
      "Enter the row (1, 2, or 3):  1\n",
      "Enter the column (1, 2, or 3):  2\n"
     ]
    },
    {
     "name": "stdout",
     "output_type": "stream",
     "text": [
      "Computer's move:\n",
      "O|X|X\n",
      "-----\n",
      "O|X|O\n",
      "-----\n",
      " |O|X\n",
      "-----\n"
     ]
    },
    {
     "name": "stdin",
     "output_type": "stream",
     "text": [
      "Enter the row (1, 2, or 3):  1\n",
      "Enter the column (1, 2, or 3):  1\n"
     ]
    },
    {
     "name": "stdout",
     "output_type": "stream",
     "text": [
      "Invalid move. Please try again.\n"
     ]
    },
    {
     "name": "stdin",
     "output_type": "stream",
     "text": [
      "Enter the row (1, 2, or 3):  2\n",
      "Enter the column (1, 2, or 3):  2\n"
     ]
    },
    {
     "name": "stdout",
     "output_type": "stream",
     "text": [
      "Invalid move. Please try again.\n"
     ]
    },
    {
     "name": "stdin",
     "output_type": "stream",
     "text": [
      "Enter the row (1, 2, or 3):  2\n",
      "Enter the column (1, 2, or 3):  3\n"
     ]
    },
    {
     "name": "stdout",
     "output_type": "stream",
     "text": [
      "Invalid move. Please try again.\n"
     ]
    }
   ],
   "source": [
    "import random\n",
    "\n",
    "def print_board(board):\n",
    "    for row in board:\n",
    "        print(\"|\".join(row))\n",
    "        print(\"-----\")\n",
    "\n",
    "def is_winner(board, player):\n",
    "    # Check rows, columns, and diagonals for a win\n",
    "    for i in range(3):\n",
    "        if all(cell == player for cell in board[i]) or all(board[j][i] == player for j in range(3)):\n",
    "            return True\n",
    "    if all(board[i][i] == player for i in range(3)) or all(board[i][2 - i] == player for i in range(3)):\n",
    "        return True\n",
    "    return False\n",
    "\n",
    "def is_board_full(board):\n",
    "    return all(cell != ' ' for row in board for cell in row)\n",
    "\n",
    "def get_empty_cells(board):\n",
    "    return [(i, j) for i in range(3) for j in range(3) if board[i][j] == ' ']\n",
    "\n",
    "def player_move(board):\n",
    "    while True:\n",
    "        try:\n",
    "            row = int(input(\"Enter the row (1, 2, or 3): \")) - 1\n",
    "            col = int(input(\"Enter the column (1, 2, or 3): \")) - 1\n",
    "            if 0 <= row < 3 and 0 <= col < 3 and board[row][col] == ' ':\n",
    "                return row, col\n",
    "            else:\n",
    "                print(\"Invalid move. Please try again.\")\n",
    "        except ValueError:\n",
    "            print(\"Invalid input. Please enter a number.\")\n",
    "\n",
    "def computer_move(board):\n",
    "    empty_cells = get_empty_cells(board)\n",
    "    return random.choice(empty_cells)\n",
    "\n",
    "def play_tic_tac_toe():\n",
    "    board = [[' ' for _ in range(3)] for _ in range(3)]\n",
    "    print(\"Welcome to Tic-Tac-Toe!\")\n",
    "\n",
    "    while True:\n",
    "        # Player's move\n",
    "        print_board(board)\n",
    "        player_row, player_col = player_move(board)\n",
    "        board[player_row][player_col] = 'X'\n",
    "\n",
    "        # Check if the player wins\n",
    "        if is_winner(board, 'X'):\n",
    "            print_board(board)\n",
    "            print(\"Congratulations! You win!\")\n",
    "            break\n",
    "\n",
    "        # Check if the board is full (a tie)\n",
    "        if is_board_full(board):\n",
    "            print_board(board)\n",
    "            print(\"It's a tie!\")\n",
    "            break\n",
    "\n",
    "        # Computer's move\n",
    "        print(\"Computer's move:\")\n",
    "        computer_row, computer_col = computer_move(board)\n",
    "        board[computer_row][computer_col] = 'O'\n",
    "\n",
    "        # Check if the computer wins\n",
    "        if is_winner(board, 'O'):\n",
    "            print_board(board)\n",
    "            print(\"Computer wins! Better luck next time.\")\n",
    "            break\n",
    "\n",
    "if __name__ == \"__main__\":\n",
    "    play_tic_tac_toe()"
   ]
  },
  {
   "cell_type": "code",
   "execution_count": null,
   "id": "1c2e124d-611b-40d2-9c4f-93f4505c8244",
   "metadata": {},
   "outputs": [],
   "source": [
    "36. Write a program that generates Fibonacci numbers up to a specified term using iterative methods."
   ]
  },
  {
   "cell_type": "code",
   "execution_count": 1,
   "id": "8a6a85e6-9c7b-41c2-aaa1-49d1bc9cab62",
   "metadata": {},
   "outputs": [
    {
     "name": "stdin",
     "output_type": "stream",
     "text": [
      "Enter the number of Fibonacci terms to generate:  6\n"
     ]
    },
    {
     "name": "stdout",
     "output_type": "stream",
     "text": [
      "Fibonacci sequence up to term 6:\n",
      "[0, 1, 1, 2, 3, 5]\n"
     ]
    }
   ],
   "source": [
    "def generate_fibonacci(n):\n",
    "    fibonacci_sequence = [0, 1]\n",
    "\n",
    "    for i in range(2, n):\n",
    "        next_term = fibonacci_sequence[i - 1] + fibonacci_sequence[i - 2]\n",
    "        fibonacci_sequence.append(next_term)\n",
    "\n",
    "    return fibonacci_sequence\n",
    "\n",
    "# Get user input for the number of terms\n",
    "try:\n",
    "    n = int(input(\"Enter the number of Fibonacci terms to generate: \"))\n",
    "\n",
    "    # Call the function and print the result\n",
    "    fibonacci_sequence = generate_fibonacci(n)\n",
    "    print(\"Fibonacci sequence up to term {}:\".format(n))\n",
    "    print(fibonacci_sequence)\n",
    "except ValueError:\n",
    "    print(\"Please enter a valid numeric value for the number of terms.\")\n",
    "except Exception as e:\n",
    "    print(f\"An error occurred: {e}\")"
   ]
  },
  {
   "cell_type": "code",
   "execution_count": null,
   "id": "c3eded22-f269-4848-88a1-c65bbb5a1915",
   "metadata": {},
   "outputs": [],
   "source": [
    "37. Develop a program that calculates the nth term of the Fibonacci sequence using memoization."
   ]
  },
  {
   "cell_type": "code",
   "execution_count": 2,
   "id": "313e543b-d428-4bb0-995e-265358523870",
   "metadata": {},
   "outputs": [
    {
     "name": "stdin",
     "output_type": "stream",
     "text": [
      "Enter the term number of the Fibonacci sequence to calculate:  7\n"
     ]
    },
    {
     "name": "stdout",
     "output_type": "stream",
     "text": [
      "The 7-th term of the Fibonacci sequence is: 13\n"
     ]
    }
   ],
   "source": [
    "def fibonacci_memo(n, memo={}):\n",
    "    if n <= 1:\n",
    "        return n\n",
    "\n",
    "    # Check if the result is already memoized\n",
    "    if n in memo:\n",
    "        return memo[n]\n",
    "\n",
    "    # Calculate the Fibonacci term and memoize the result\n",
    "    result = fibonacci_memo(n - 1, memo) + fibonacci_memo(n - 2, memo)\n",
    "    memo[n] = result\n",
    "    return result\n",
    "\n",
    "# Get user input for the term number\n",
    "try:\n",
    "    term_number = int(input(\"Enter the term number of the Fibonacci sequence to calculate: \"))\n",
    "\n",
    "    # Call the function and print the result\n",
    "    fibonacci_result = fibonacci_memo(term_number)\n",
    "    print(\"The {}-th term of the Fibonacci sequence is: {}\".format(term_number, fibonacci_result))\n",
    "except ValueError:\n",
    "    print(\"Please enter a valid numeric value for the term number.\")\n",
    "except Exception as e:\n",
    "    print(f\"An error occurred: {e}\")"
   ]
  },
  {
   "cell_type": "code",
   "execution_count": null,
   "id": "a4fe0c50-24e6-4733-9a93-01b61a5598d8",
   "metadata": {},
   "outputs": [],
   "source": [
    "38. Create a program that generates a calendar for a given month and year using conditional statements."
   ]
  },
  {
   "cell_type": "code",
   "execution_count": 4,
   "id": "1ee9a5c0-4de8-4038-8840-e1fc46a8437f",
   "metadata": {},
   "outputs": [
    {
     "name": "stdin",
     "output_type": "stream",
     "text": [
      "Enter the year:  2023\n",
      "Enter the month (1-12):  11\n"
     ]
    },
    {
     "name": "stdout",
     "output_type": "stream",
     "text": [
      "\n",
      "November 2023\n",
      "Mo Tu We Th Fr Sa Su\n",
      "       1  2  3  4  5 \n",
      " 6  7  8  9 10 11 12 \n",
      "13 14 15 16 17 18 19 \n",
      "20 21 22 23 24 25 26 \n",
      "27 28 29 30          \n"
     ]
    }
   ],
   "source": [
    "import calendar\n",
    "\n",
    "def generate_calendar(year, month):\n",
    "    # Check if the provided month and year are valid\n",
    "    if not (1 <= month <= 12):\n",
    "        raise ValueError(\"Invalid month. Please enter a month between 1 and 12.\")\n",
    "    \n",
    "    # Generate and print the calendar\n",
    "    cal = calendar.monthcalendar(year, month)\n",
    "    month_name = calendar.month_name[month]\n",
    "    \n",
    "    print(\"\\n{} {}\".format(month_name, year))\n",
    "    print(\"Mo Tu We Th Fr Sa Su\")\n",
    "    \n",
    "    for week in cal:\n",
    "        for day in week:\n",
    "            if day == 0:\n",
    "                print(\"   \", end=\"\")\n",
    "            else:\n",
    "                print(f\"{day:2} \", end=\"\")\n",
    "        print()\n",
    "\n",
    "# Get user input for the year and month\n",
    "try:\n",
    "    year = int(input(\"Enter the year: \"))\n",
    "    month = int(input(\"Enter the month (1-12): \"))\n",
    "    \n",
    "    # Call the function and print the result\n",
    "    generate_calendar(year, month)\n",
    "except ValueError:\n",
    "    print(\"Please enter valid numeric values for the year and month.\")\n",
    "except Exception as e:\n",
    "    print(f\"An error occurred: {e}\")"
   ]
  },
  {
   "cell_type": "code",
   "execution_count": null,
   "id": "5e7b5fcd-ca34-410b-b15d-c2aef5366d50",
   "metadata": {},
   "outputs": [],
   "source": [
    "39. Build a program that simulates a basic text-based blackjack game against the computer."
   ]
  },
  {
   "cell_type": "code",
   "execution_count": 5,
   "id": "57310f66-cab8-46d5-8ca5-31decb36d3e8",
   "metadata": {},
   "outputs": [
    {
     "name": "stdout",
     "output_type": "stream",
     "text": [
      "Your cards: [4, 4], current score: 8\n",
      "Computer's first card: 10\n"
     ]
    },
    {
     "name": "stdin",
     "output_type": "stream",
     "text": [
      "Type 'y' to get another card, 'n' to pass:  n\n"
     ]
    },
    {
     "name": "stdout",
     "output_type": "stream",
     "text": [
      "Your final hand: [4, 4], final score: 8\n",
      "Computer's final hand: [10, 10], final score: 20\n",
      "You lose!\n"
     ]
    }
   ],
   "source": [
    "import random\n",
    "\n",
    "def deal_card():\n",
    "    \"\"\"Return a random card from the deck.\"\"\"\n",
    "    cards = [11, 2, 3, 4, 5, 6, 7, 8, 9, 10, 10, 10, 10]\n",
    "    return random.choice(cards)\n",
    "\n",
    "def calculate_score(cards):\n",
    "    \"\"\"Calculate the score of a hand.\"\"\"\n",
    "    if sum(cards) == 21 and len(cards) == 2:\n",
    "        return 0  # Blackjack\n",
    "    if 11 in cards and sum(cards) > 21:\n",
    "        cards.remove(11)\n",
    "        cards.append(1)\n",
    "    return sum(cards)\n",
    "\n",
    "def compare(player_score, computer_score):\n",
    "    \"\"\"Compare the scores and determine the winner.\"\"\"\n",
    "    if player_score == computer_score:\n",
    "        return \"It's a draw!\"\n",
    "    elif computer_score == 0:\n",
    "        return \"Computer has Blackjack. You lose!\"\n",
    "    elif player_score == 0:\n",
    "        return \"You have Blackjack. You win!\"\n",
    "    elif player_score > 21:\n",
    "        return \"You went over. You lose!\"\n",
    "    elif computer_score > 21:\n",
    "        return \"Computer went over. You win!\"\n",
    "    elif player_score > computer_score:\n",
    "        return \"You win!\"\n",
    "    else:\n",
    "        return \"You lose!\"\n",
    "\n",
    "def play_game():\n",
    "    player_cards = []\n",
    "    computer_cards = []\n",
    "    game_over = False\n",
    "\n",
    "    for _ in range(2):\n",
    "        player_cards.append(deal_card())\n",
    "        computer_cards.append(deal_card())\n",
    "\n",
    "    while not game_over:\n",
    "        player_score = calculate_score(player_cards)\n",
    "        computer_score = calculate_score(computer_cards)\n",
    "\n",
    "        print(f\"Your cards: {player_cards}, current score: {player_score}\")\n",
    "        print(f\"Computer's first card: {computer_cards[0]}\")\n",
    "\n",
    "        if player_score == 0 or computer_score == 0 or player_score > 21:\n",
    "            game_over = True\n",
    "        else:\n",
    "            should_continue = input(\"Type 'y' to get another card, 'n' to pass: \")\n",
    "            if should_continue == 'y':\n",
    "                player_cards.append(deal_card())\n",
    "            else:\n",
    "                game_over = True\n",
    "\n",
    "    while computer_score != 0 and computer_score < 17:\n",
    "        computer_cards.append(deal_card())\n",
    "        computer_score = calculate_score(computer_cards)\n",
    "\n",
    "    print(f\"Your final hand: {player_cards}, final score: {player_score}\")\n",
    "    print(f\"Computer's final hand: {computer_cards}, final score: {computer_score}\")\n",
    "    print(compare(player_score, computer_score))\n",
    "\n",
    "if __name__ == \"__main__\":\n",
    "    play_game()"
   ]
  },
  {
   "cell_type": "code",
   "execution_count": null,
   "id": "739fed5a-3cd5-4f3c-884a-2026562ba88e",
   "metadata": {},
   "outputs": [],
   "source": [
    "40. Write a program that generates the prime factors of a given number using trial division."
   ]
  },
  {
   "cell_type": "code",
   "execution_count": 6,
   "id": "dea90da0-a6c1-4f12-b0b9-5b32a2cf7844",
   "metadata": {},
   "outputs": [
    {
     "name": "stdin",
     "output_type": "stream",
     "text": [
      "Enter a number to find its prime factors:  67\n"
     ]
    },
    {
     "name": "stdout",
     "output_type": "stream",
     "text": [
      "Prime factors of 67:\n",
      "[67]\n"
     ]
    }
   ],
   "source": [
    "def generate_prime_factors(number):\n",
    "    prime_factors = []\n",
    "    divisor = 2\n",
    "\n",
    "    while divisor <= number:\n",
    "        if number % divisor == 0:\n",
    "            prime_factors.append(divisor)\n",
    "            number //= divisor\n",
    "        else:\n",
    "            divisor += 1\n",
    "\n",
    "    return prime_factors\n",
    "\n",
    "# Get user input for the number\n",
    "try:\n",
    "    number = int(input(\"Enter a number to find its prime factors: \"))\n",
    "\n",
    "    # Call the function and print the result\n",
    "    prime_factors = generate_prime_factors(number)\n",
    "    if len(prime_factors) == 0:\n",
    "        print(\"The number {} has no prime factors.\".format(number))\n",
    "    else:\n",
    "        print(\"Prime factors of {}:\".format(number))\n",
    "        print(prime_factors)\n",
    "except ValueError:\n",
    "    print(\"Please enter a valid numeric value for the number.\")\n",
    "except Exception as e:\n",
    "    print(f\"An error occurred: {e}\")"
   ]
  },
  {
   "cell_type": "code",
   "execution_count": null,
   "id": "824cb841-0f3e-4da6-a162-3c937ab759d4",
   "metadata": {},
   "outputs": [],
   "source": []
  }
 ],
 "metadata": {
  "kernelspec": {
   "display_name": "Python 3 (ipykernel)",
   "language": "python",
   "name": "python3"
  },
  "language_info": {
   "codemirror_mode": {
    "name": "ipython",
    "version": 3
   },
   "file_extension": ".py",
   "mimetype": "text/x-python",
   "name": "python",
   "nbconvert_exporter": "python",
   "pygments_lexer": "ipython3",
   "version": "3.10.8"
  }
 },
 "nbformat": 4,
 "nbformat_minor": 5
}
